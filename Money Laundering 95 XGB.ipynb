{
 "cells": [
  {
   "cell_type": "markdown",
   "id": "322077e4",
   "metadata": {
    "id": "322077e4"
   },
   "source": [
    "                                               **Project - 95**\n",
    "                                          \n",
    "                                        -- Money Laundering Detection --"
   ]
  },
  {
   "cell_type": "markdown",
   "id": "450e3fe0",
   "metadata": {
    "id": "450e3fe0"
   },
   "source": [
    "# Business Problem :\n",
    "\n",
    " ## Designing and Executing an Anti-Money Laundering Program: Minimizing Risk and Adhering to Regulatory Requirements\n",
    "\n",
    "## Developing and Implementing an Effective Anti-Money Laundering Strategy: Mitigating Financial Risk and Ensuring Compliance. Detection of Money Laundering Activity.\n",
    "        \n",
    "        \n",
    "## Business Objective :\n",
    "\n",
    "   ### Minimise :\n",
    "   \n",
    "        Due diligence\n",
    "        Financial crimes/risks\n",
    "        Corruption with report\n",
    "        Operational inefficiencies\n",
    "        False Alarms\n",
    "        \n",
    "## Business Constraints :\n",
    "\n",
    "   ### Maximise :\n",
    "   \n",
    "        Effective Transaction monitoring\n",
    "        Effective reporting mechanism\n",
    "        Compliance measures\n",
    "        AML Policies\n",
    "        Customer Convenience\""
   ]
  },
  {
   "cell_type": "code",
   "execution_count": 14,
   "id": "e893f809",
   "metadata": {
    "id": "e893f809"
   },
   "outputs": [],
   "source": [
    "## Importing required libraries for analysis\n",
    "\n",
    "import pandas as pd \n",
    "import numpy as np\n",
    "import seaborn as sns \n",
    "from sklearn.preprocessing import LabelEncoder, StandardScaler\n",
    "from sklearn.model_selection import train_test_split, GridSearchCV\n",
    "import plotly.express as px\n",
    "import matplotlib.pyplot as plt\n",
    "import warnings\n",
    "warnings.filterwarnings('ignore')\n",
    "%matplotlib inline"
   ]
  },
  {
   "cell_type": "code",
   "execution_count": 15,
   "id": "48f1bee4",
   "metadata": {
    "colab": {
     "base_uri": "https://localhost:8080/",
     "height": 505
    },
    "id": "48f1bee4",
    "outputId": "5813ddd8-57bc-46c1-b5e1-15ded72483a4"
   },
   "outputs": [
    {
     "data": {
      "text/html": [
       "<div>\n",
       "<style scoped>\n",
       "    .dataframe tbody tr th:only-of-type {\n",
       "        vertical-align: middle;\n",
       "    }\n",
       "\n",
       "    .dataframe tbody tr th {\n",
       "        vertical-align: top;\n",
       "    }\n",
       "\n",
       "    .dataframe thead th {\n",
       "        text-align: right;\n",
       "    }\n",
       "</style>\n",
       "<table border=\"1\" class=\"dataframe\">\n",
       "  <thead>\n",
       "    <tr style=\"text-align: right;\">\n",
       "      <th></th>\n",
       "      <th>Unnamed: 0</th>\n",
       "      <th>step</th>\n",
       "      <th>type</th>\n",
       "      <th>amount</th>\n",
       "      <th>nameOrig</th>\n",
       "      <th>oldbalanceOrg</th>\n",
       "      <th>newbalanceOrig</th>\n",
       "      <th>nameDest</th>\n",
       "      <th>oldbalanceDest</th>\n",
       "      <th>newbalanceDest</th>\n",
       "      <th>isFraud</th>\n",
       "      <th>isFlaggedFraud</th>\n",
       "    </tr>\n",
       "  </thead>\n",
       "  <tbody>\n",
       "    <tr>\n",
       "      <th>0</th>\n",
       "      <td>0.0</td>\n",
       "      <td>1.0</td>\n",
       "      <td>PAYMENT</td>\n",
       "      <td>9839.64</td>\n",
       "      <td>C1231006815</td>\n",
       "      <td>170136.0</td>\n",
       "      <td>160296.36</td>\n",
       "      <td>M1979787155</td>\n",
       "      <td>0.00</td>\n",
       "      <td>0.00</td>\n",
       "      <td>0.0</td>\n",
       "      <td>0.0</td>\n",
       "    </tr>\n",
       "    <tr>\n",
       "      <th>1</th>\n",
       "      <td>1.0</td>\n",
       "      <td>1.0</td>\n",
       "      <td>PAYMENT</td>\n",
       "      <td>1864.28</td>\n",
       "      <td>C1666544295</td>\n",
       "      <td>21249.0</td>\n",
       "      <td>19384.72</td>\n",
       "      <td>M2044282225</td>\n",
       "      <td>0.00</td>\n",
       "      <td>0.00</td>\n",
       "      <td>0.0</td>\n",
       "      <td>0.0</td>\n",
       "    </tr>\n",
       "    <tr>\n",
       "      <th>2</th>\n",
       "      <td>2.0</td>\n",
       "      <td>1.0</td>\n",
       "      <td>TRANSFER</td>\n",
       "      <td>181.00</td>\n",
       "      <td>C1305486145</td>\n",
       "      <td>181.0</td>\n",
       "      <td>0.00</td>\n",
       "      <td>C553264065</td>\n",
       "      <td>0.00</td>\n",
       "      <td>0.00</td>\n",
       "      <td>1.0</td>\n",
       "      <td>0.0</td>\n",
       "    </tr>\n",
       "    <tr>\n",
       "      <th>3</th>\n",
       "      <td>3.0</td>\n",
       "      <td>1.0</td>\n",
       "      <td>CASH_OUT</td>\n",
       "      <td>181.00</td>\n",
       "      <td>C840083671</td>\n",
       "      <td>181.0</td>\n",
       "      <td>0.00</td>\n",
       "      <td>C38997010</td>\n",
       "      <td>21182.00</td>\n",
       "      <td>0.00</td>\n",
       "      <td>1.0</td>\n",
       "      <td>0.0</td>\n",
       "    </tr>\n",
       "    <tr>\n",
       "      <th>4</th>\n",
       "      <td>4.0</td>\n",
       "      <td>1.0</td>\n",
       "      <td>PAYMENT</td>\n",
       "      <td>11668.14</td>\n",
       "      <td>C2048537720</td>\n",
       "      <td>41554.0</td>\n",
       "      <td>29885.86</td>\n",
       "      <td>M1230701703</td>\n",
       "      <td>0.00</td>\n",
       "      <td>0.00</td>\n",
       "      <td>0.0</td>\n",
       "      <td>0.0</td>\n",
       "    </tr>\n",
       "    <tr>\n",
       "      <th>...</th>\n",
       "      <td>...</td>\n",
       "      <td>...</td>\n",
       "      <td>...</td>\n",
       "      <td>...</td>\n",
       "      <td>...</td>\n",
       "      <td>...</td>\n",
       "      <td>...</td>\n",
       "      <td>...</td>\n",
       "      <td>...</td>\n",
       "      <td>...</td>\n",
       "      <td>...</td>\n",
       "      <td>...</td>\n",
       "    </tr>\n",
       "    <tr>\n",
       "      <th>99995</th>\n",
       "      <td>99995.0</td>\n",
       "      <td>10.0</td>\n",
       "      <td>PAYMENT</td>\n",
       "      <td>4020.66</td>\n",
       "      <td>C1410794718</td>\n",
       "      <td>NaN</td>\n",
       "      <td>155908.34</td>\n",
       "      <td>M1257036576</td>\n",
       "      <td>0.00</td>\n",
       "      <td>0.00</td>\n",
       "      <td>NaN</td>\n",
       "      <td>0.0</td>\n",
       "    </tr>\n",
       "    <tr>\n",
       "      <th>99996</th>\n",
       "      <td>99996.0</td>\n",
       "      <td>10.0</td>\n",
       "      <td>PAYMENT</td>\n",
       "      <td>18345.49</td>\n",
       "      <td>C744303677</td>\n",
       "      <td>NaN</td>\n",
       "      <td>0.00</td>\n",
       "      <td>M1785344556</td>\n",
       "      <td>0.00</td>\n",
       "      <td>0.00</td>\n",
       "      <td>NaN</td>\n",
       "      <td>0.0</td>\n",
       "    </tr>\n",
       "    <tr>\n",
       "      <th>99997</th>\n",
       "      <td>99997.0</td>\n",
       "      <td>10.0</td>\n",
       "      <td>CASH_IN</td>\n",
       "      <td>183774.91</td>\n",
       "      <td>C104331851</td>\n",
       "      <td>NaN</td>\n",
       "      <td>222947.91</td>\n",
       "      <td>C36392889</td>\n",
       "      <td>54925.05</td>\n",
       "      <td>0.00</td>\n",
       "      <td>NaN</td>\n",
       "      <td>0.0</td>\n",
       "    </tr>\n",
       "    <tr>\n",
       "      <th>99998</th>\n",
       "      <td>99998.0</td>\n",
       "      <td>10.0</td>\n",
       "      <td>CASH_OUT</td>\n",
       "      <td>82237.17</td>\n",
       "      <td>C707662966</td>\n",
       "      <td>NaN</td>\n",
       "      <td>0.00</td>\n",
       "      <td>C1553004158</td>\n",
       "      <td>592635.66</td>\n",
       "      <td>799140.46</td>\n",
       "      <td>NaN</td>\n",
       "      <td>0.0</td>\n",
       "    </tr>\n",
       "    <tr>\n",
       "      <th>99999</th>\n",
       "      <td>99999.0</td>\n",
       "      <td>10.0</td>\n",
       "      <td>PAYMENT</td>\n",
       "      <td>20096.56</td>\n",
       "      <td>C1868032458</td>\n",
       "      <td>NaN</td>\n",
       "      <td>90020.44</td>\n",
       "      <td>M1419201886</td>\n",
       "      <td>0.00</td>\n",
       "      <td>0.00</td>\n",
       "      <td>NaN</td>\n",
       "      <td>0.0</td>\n",
       "    </tr>\n",
       "  </tbody>\n",
       "</table>\n",
       "<p>100000 rows × 12 columns</p>\n",
       "</div>"
      ],
      "text/plain": [
       "       Unnamed: 0  step      type     amount     nameOrig  oldbalanceOrg  \\\n",
       "0             0.0   1.0   PAYMENT    9839.64  C1231006815       170136.0   \n",
       "1             1.0   1.0   PAYMENT    1864.28  C1666544295        21249.0   \n",
       "2             2.0   1.0  TRANSFER     181.00  C1305486145          181.0   \n",
       "3             3.0   1.0  CASH_OUT     181.00   C840083671          181.0   \n",
       "4             4.0   1.0   PAYMENT   11668.14  C2048537720        41554.0   \n",
       "...           ...   ...       ...        ...          ...            ...   \n",
       "99995     99995.0  10.0   PAYMENT    4020.66  C1410794718            NaN   \n",
       "99996     99996.0  10.0   PAYMENT   18345.49   C744303677            NaN   \n",
       "99997     99997.0  10.0   CASH_IN  183774.91   C104331851            NaN   \n",
       "99998     99998.0  10.0  CASH_OUT   82237.17   C707662966            NaN   \n",
       "99999     99999.0  10.0   PAYMENT   20096.56  C1868032458            NaN   \n",
       "\n",
       "       newbalanceOrig     nameDest  oldbalanceDest  newbalanceDest  isFraud  \\\n",
       "0           160296.36  M1979787155            0.00            0.00      0.0   \n",
       "1            19384.72  M2044282225            0.00            0.00      0.0   \n",
       "2                0.00   C553264065            0.00            0.00      1.0   \n",
       "3                0.00    C38997010        21182.00            0.00      1.0   \n",
       "4            29885.86  M1230701703            0.00            0.00      0.0   \n",
       "...               ...          ...             ...             ...      ...   \n",
       "99995       155908.34  M1257036576            0.00            0.00      NaN   \n",
       "99996            0.00  M1785344556            0.00            0.00      NaN   \n",
       "99997       222947.91    C36392889        54925.05            0.00      NaN   \n",
       "99998            0.00  C1553004158       592635.66       799140.46      NaN   \n",
       "99999        90020.44  M1419201886            0.00            0.00      NaN   \n",
       "\n",
       "       isFlaggedFraud  \n",
       "0                 0.0  \n",
       "1                 0.0  \n",
       "2                 0.0  \n",
       "3                 0.0  \n",
       "4                 0.0  \n",
       "...               ...  \n",
       "99995             0.0  \n",
       "99996             0.0  \n",
       "99997             0.0  \n",
       "99998             0.0  \n",
       "99999             0.0  \n",
       "\n",
       "[100000 rows x 12 columns]"
      ]
     },
     "execution_count": 15,
     "metadata": {},
     "output_type": "execute_result"
    }
   ],
   "source": [
    "## Loading the dataset to Preprocess the data\n",
    "df = pd.read_csv(\"Money_Laundering_Dataset.csv\")\n",
    "df"
   ]
  },
  {
   "cell_type": "code",
   "execution_count": 16,
   "id": "b24ce168",
   "metadata": {
    "colab": {
     "base_uri": "https://localhost:8080/"
    },
    "id": "b24ce168",
    "outputId": "82a0aebb-42bb-4d23-f5e4-63336f32aad0"
   },
   "outputs": [
    {
     "name": "stdout",
     "output_type": "stream",
     "text": [
      "<class 'pandas.core.frame.DataFrame'>\n",
      "RangeIndex: 100000 entries, 0 to 99999\n",
      "Data columns (total 12 columns):\n",
      " #   Column          Non-Null Count   Dtype  \n",
      "---  ------          --------------   -----  \n",
      " 0   Unnamed: 0      99997 non-null   float64\n",
      " 1   step            99323 non-null   float64\n",
      " 2   type            100000 non-null  object \n",
      " 3   amount          100000 non-null  float64\n",
      " 4   nameOrig        99990 non-null   object \n",
      " 5   oldbalanceOrg   99857 non-null   float64\n",
      " 6   newbalanceOrig  99978 non-null   float64\n",
      " 7   nameDest        99996 non-null   object \n",
      " 8   oldbalanceDest  99948 non-null   float64\n",
      " 9   newbalanceDest  100000 non-null  float64\n",
      " 10  isFraud         99683 non-null   float64\n",
      " 11  isFlaggedFraud  99929 non-null   float64\n",
      "dtypes: float64(9), object(3)\n",
      "memory usage: 9.2+ MB\n"
     ]
    }
   ],
   "source": [
    "## Summary of the dataframe\n",
    "df.info()"
   ]
  },
  {
   "cell_type": "code",
   "execution_count": 17,
   "id": "996f57ba",
   "metadata": {
    "colab": {
     "base_uri": "https://localhost:8080/"
    },
    "id": "996f57ba",
    "outputId": "a987b356-b36d-4b19-b741-5be55ed98d27"
   },
   "outputs": [
    {
     "data": {
      "text/plain": [
       "Unnamed: 0          3\n",
       "step              677\n",
       "type                0\n",
       "amount              0\n",
       "nameOrig           10\n",
       "oldbalanceOrg     143\n",
       "newbalanceOrig     22\n",
       "nameDest            4\n",
       "oldbalanceDest     52\n",
       "newbalanceDest      0\n",
       "isFraud           317\n",
       "isFlaggedFraud     71\n",
       "dtype: int64"
      ]
     },
     "execution_count": 17,
     "metadata": {},
     "output_type": "execute_result"
    }
   ],
   "source": [
    "## Finding null values\n",
    "df.isna().sum()"
   ]
  },
  {
   "cell_type": "code",
   "execution_count": 19,
   "id": "f8f9262f",
   "metadata": {},
   "outputs": [
    {
     "data": {
      "application/vnd.jupyter.widget-view+json": {
       "model_id": "33d455f5719f4754be9d083c35ddbe17",
       "version_major": 2,
       "version_minor": 0
      },
      "text/plain": [
       "                                             |      | [  0%]   00:00 -> (? left)"
      ]
     },
     "metadata": {},
     "output_type": "display_data"
    },
    {
     "name": "stdout",
     "output_type": "stream",
     "text": [
      "Report SWEETVIZ_REPORT.html was generated! NOTEBOOK/COLAB USERS: the web browser MAY not pop up, regardless, the report IS saved in your notebook/colab files.\n"
     ]
    }
   ],
   "source": [
    "import sweetviz as sv\n",
    "\n",
    "##Generate Auto EDA using Sweetviz\n",
    "my_report = sv.analyze(df)\n",
    "my_report.show_html() \n",
    "\n",
    "## Default arguments will generate to SWEETVIZ.html."
   ]
  },
  {
   "cell_type": "markdown",
   "id": "501c88ec",
   "metadata": {
    "id": "501c88ec"
   },
   "source": [
    "#### Null Values are present and need to perform SimpleImputer Median for Numerical & Most_Frequent to categorical variable."
   ]
  },
  {
   "cell_type": "code",
   "execution_count": 20,
   "id": "f8f5512a",
   "metadata": {
    "colab": {
     "base_uri": "https://localhost:8080/"
    },
    "id": "f8f5512a",
    "outputId": "fe4f0639-64b1-4ed4-f571-91e9f99d7e6d"
   },
   "outputs": [
    {
     "data": {
      "text/plain": [
       "0"
      ]
     },
     "execution_count": 20,
     "metadata": {},
     "output_type": "execute_result"
    }
   ],
   "source": [
    "## Finding duplicates in Rows\n",
    "df.duplicated().sum()"
   ]
  },
  {
   "cell_type": "code",
   "execution_count": 21,
   "id": "9fd730b3",
   "metadata": {
    "colab": {
     "base_uri": "https://localhost:8080/"
    },
    "id": "9fd730b3",
    "outputId": "923d1d64-ccd3-4c8a-a119-68a3652a0797"
   },
   "outputs": [
    {
     "data": {
      "text/plain": [
       "0"
      ]
     },
     "execution_count": 21,
     "metadata": {},
     "output_type": "execute_result"
    }
   ],
   "source": [
    "## Finding duplicates in columns\n",
    "df.transpose().duplicated().sum()"
   ]
  },
  {
   "cell_type": "markdown",
   "id": "1df54f0c",
   "metadata": {
    "id": "1df54f0c"
   },
   "source": [
    "#### No Dupliacted values found in Columns & Rows"
   ]
  },
  {
   "cell_type": "code",
   "execution_count": 22,
   "id": "6ec356b5",
   "metadata": {
    "colab": {
     "base_uri": "https://localhost:8080/",
     "height": 488
    },
    "id": "6ec356b5",
    "outputId": "07ca7440-dd65-4850-bd77-8a633d1dd02d"
   },
   "outputs": [
    {
     "data": {
      "text/html": [
       "<div>\n",
       "<style scoped>\n",
       "    .dataframe tbody tr th:only-of-type {\n",
       "        vertical-align: middle;\n",
       "    }\n",
       "\n",
       "    .dataframe tbody tr th {\n",
       "        vertical-align: top;\n",
       "    }\n",
       "\n",
       "    .dataframe thead th {\n",
       "        text-align: right;\n",
       "    }\n",
       "</style>\n",
       "<table border=\"1\" class=\"dataframe\">\n",
       "  <thead>\n",
       "    <tr style=\"text-align: right;\">\n",
       "      <th></th>\n",
       "      <th>step</th>\n",
       "      <th>type</th>\n",
       "      <th>amount</th>\n",
       "      <th>nameOrig</th>\n",
       "      <th>oldbalanceOrg</th>\n",
       "      <th>newbalanceOrig</th>\n",
       "      <th>nameDest</th>\n",
       "      <th>oldbalanceDest</th>\n",
       "      <th>newbalanceDest</th>\n",
       "      <th>isFraud</th>\n",
       "      <th>isFlaggedFraud</th>\n",
       "    </tr>\n",
       "  </thead>\n",
       "  <tbody>\n",
       "    <tr>\n",
       "      <th>0</th>\n",
       "      <td>1.0</td>\n",
       "      <td>PAYMENT</td>\n",
       "      <td>9839.64</td>\n",
       "      <td>C1231006815</td>\n",
       "      <td>170136.0</td>\n",
       "      <td>160296.36</td>\n",
       "      <td>M1979787155</td>\n",
       "      <td>0.00</td>\n",
       "      <td>0.00</td>\n",
       "      <td>0.0</td>\n",
       "      <td>0.0</td>\n",
       "    </tr>\n",
       "    <tr>\n",
       "      <th>1</th>\n",
       "      <td>1.0</td>\n",
       "      <td>PAYMENT</td>\n",
       "      <td>1864.28</td>\n",
       "      <td>C1666544295</td>\n",
       "      <td>21249.0</td>\n",
       "      <td>19384.72</td>\n",
       "      <td>M2044282225</td>\n",
       "      <td>0.00</td>\n",
       "      <td>0.00</td>\n",
       "      <td>0.0</td>\n",
       "      <td>0.0</td>\n",
       "    </tr>\n",
       "    <tr>\n",
       "      <th>2</th>\n",
       "      <td>1.0</td>\n",
       "      <td>TRANSFER</td>\n",
       "      <td>181.00</td>\n",
       "      <td>C1305486145</td>\n",
       "      <td>181.0</td>\n",
       "      <td>0.00</td>\n",
       "      <td>C553264065</td>\n",
       "      <td>0.00</td>\n",
       "      <td>0.00</td>\n",
       "      <td>1.0</td>\n",
       "      <td>0.0</td>\n",
       "    </tr>\n",
       "    <tr>\n",
       "      <th>3</th>\n",
       "      <td>1.0</td>\n",
       "      <td>CASH_OUT</td>\n",
       "      <td>181.00</td>\n",
       "      <td>C840083671</td>\n",
       "      <td>181.0</td>\n",
       "      <td>0.00</td>\n",
       "      <td>C38997010</td>\n",
       "      <td>21182.00</td>\n",
       "      <td>0.00</td>\n",
       "      <td>1.0</td>\n",
       "      <td>0.0</td>\n",
       "    </tr>\n",
       "    <tr>\n",
       "      <th>4</th>\n",
       "      <td>1.0</td>\n",
       "      <td>PAYMENT</td>\n",
       "      <td>11668.14</td>\n",
       "      <td>C2048537720</td>\n",
       "      <td>41554.0</td>\n",
       "      <td>29885.86</td>\n",
       "      <td>M1230701703</td>\n",
       "      <td>0.00</td>\n",
       "      <td>0.00</td>\n",
       "      <td>0.0</td>\n",
       "      <td>0.0</td>\n",
       "    </tr>\n",
       "    <tr>\n",
       "      <th>...</th>\n",
       "      <td>...</td>\n",
       "      <td>...</td>\n",
       "      <td>...</td>\n",
       "      <td>...</td>\n",
       "      <td>...</td>\n",
       "      <td>...</td>\n",
       "      <td>...</td>\n",
       "      <td>...</td>\n",
       "      <td>...</td>\n",
       "      <td>...</td>\n",
       "      <td>...</td>\n",
       "    </tr>\n",
       "    <tr>\n",
       "      <th>99995</th>\n",
       "      <td>10.0</td>\n",
       "      <td>PAYMENT</td>\n",
       "      <td>4020.66</td>\n",
       "      <td>C1410794718</td>\n",
       "      <td>NaN</td>\n",
       "      <td>155908.34</td>\n",
       "      <td>M1257036576</td>\n",
       "      <td>0.00</td>\n",
       "      <td>0.00</td>\n",
       "      <td>NaN</td>\n",
       "      <td>0.0</td>\n",
       "    </tr>\n",
       "    <tr>\n",
       "      <th>99996</th>\n",
       "      <td>10.0</td>\n",
       "      <td>PAYMENT</td>\n",
       "      <td>18345.49</td>\n",
       "      <td>C744303677</td>\n",
       "      <td>NaN</td>\n",
       "      <td>0.00</td>\n",
       "      <td>M1785344556</td>\n",
       "      <td>0.00</td>\n",
       "      <td>0.00</td>\n",
       "      <td>NaN</td>\n",
       "      <td>0.0</td>\n",
       "    </tr>\n",
       "    <tr>\n",
       "      <th>99997</th>\n",
       "      <td>10.0</td>\n",
       "      <td>CASH_IN</td>\n",
       "      <td>183774.91</td>\n",
       "      <td>C104331851</td>\n",
       "      <td>NaN</td>\n",
       "      <td>222947.91</td>\n",
       "      <td>C36392889</td>\n",
       "      <td>54925.05</td>\n",
       "      <td>0.00</td>\n",
       "      <td>NaN</td>\n",
       "      <td>0.0</td>\n",
       "    </tr>\n",
       "    <tr>\n",
       "      <th>99998</th>\n",
       "      <td>10.0</td>\n",
       "      <td>CASH_OUT</td>\n",
       "      <td>82237.17</td>\n",
       "      <td>C707662966</td>\n",
       "      <td>NaN</td>\n",
       "      <td>0.00</td>\n",
       "      <td>C1553004158</td>\n",
       "      <td>592635.66</td>\n",
       "      <td>799140.46</td>\n",
       "      <td>NaN</td>\n",
       "      <td>0.0</td>\n",
       "    </tr>\n",
       "    <tr>\n",
       "      <th>99999</th>\n",
       "      <td>10.0</td>\n",
       "      <td>PAYMENT</td>\n",
       "      <td>20096.56</td>\n",
       "      <td>C1868032458</td>\n",
       "      <td>NaN</td>\n",
       "      <td>90020.44</td>\n",
       "      <td>M1419201886</td>\n",
       "      <td>0.00</td>\n",
       "      <td>0.00</td>\n",
       "      <td>NaN</td>\n",
       "      <td>0.0</td>\n",
       "    </tr>\n",
       "  </tbody>\n",
       "</table>\n",
       "<p>100000 rows × 11 columns</p>\n",
       "</div>"
      ],
      "text/plain": [
       "       step      type     amount     nameOrig  oldbalanceOrg  newbalanceOrig  \\\n",
       "0       1.0   PAYMENT    9839.64  C1231006815       170136.0       160296.36   \n",
       "1       1.0   PAYMENT    1864.28  C1666544295        21249.0        19384.72   \n",
       "2       1.0  TRANSFER     181.00  C1305486145          181.0            0.00   \n",
       "3       1.0  CASH_OUT     181.00   C840083671          181.0            0.00   \n",
       "4       1.0   PAYMENT   11668.14  C2048537720        41554.0        29885.86   \n",
       "...     ...       ...        ...          ...            ...             ...   \n",
       "99995  10.0   PAYMENT    4020.66  C1410794718            NaN       155908.34   \n",
       "99996  10.0   PAYMENT   18345.49   C744303677            NaN            0.00   \n",
       "99997  10.0   CASH_IN  183774.91   C104331851            NaN       222947.91   \n",
       "99998  10.0  CASH_OUT   82237.17   C707662966            NaN            0.00   \n",
       "99999  10.0   PAYMENT   20096.56  C1868032458            NaN        90020.44   \n",
       "\n",
       "          nameDest  oldbalanceDest  newbalanceDest  isFraud  isFlaggedFraud  \n",
       "0      M1979787155            0.00            0.00      0.0             0.0  \n",
       "1      M2044282225            0.00            0.00      0.0             0.0  \n",
       "2       C553264065            0.00            0.00      1.0             0.0  \n",
       "3        C38997010        21182.00            0.00      1.0             0.0  \n",
       "4      M1230701703            0.00            0.00      0.0             0.0  \n",
       "...            ...             ...             ...      ...             ...  \n",
       "99995  M1257036576            0.00            0.00      NaN             0.0  \n",
       "99996  M1785344556            0.00            0.00      NaN             0.0  \n",
       "99997    C36392889        54925.05            0.00      NaN             0.0  \n",
       "99998  C1553004158       592635.66       799140.46      NaN             0.0  \n",
       "99999  M1419201886            0.00            0.00      NaN             0.0  \n",
       "\n",
       "[100000 rows x 11 columns]"
      ]
     },
     "execution_count": 22,
     "metadata": {},
     "output_type": "execute_result"
    }
   ],
   "source": [
    "## Dropping un-useful column\n",
    "df = df.drop('Unnamed: 0', axis=1)\n",
    "df"
   ]
  },
  {
   "cell_type": "code",
   "execution_count": 23,
   "id": "62b41640",
   "metadata": {
    "id": "62b41640"
   },
   "outputs": [],
   "source": [
    "## Using Median Simple Imputer to convert Null Values Present in Numericals\n",
    "\n",
    "from sklearn.impute import SimpleImputer\n",
    "\n",
    "# Separate the columns with missing values\n",
    "missing_cols = ['oldbalanceOrg', 'newbalanceOrig', 'oldbalanceDest']\n",
    "\n",
    "imputer = SimpleImputer(strategy='median')\n",
    "\n",
    "# Impute the missing values\n",
    "df[missing_cols] = imputer.fit_transform(df[missing_cols])"
   ]
  },
  {
   "cell_type": "code",
   "execution_count": 24,
   "id": "b2a1af31",
   "metadata": {
    "id": "b2a1af31"
   },
   "outputs": [],
   "source": [
    "## Most_Frequent for convertinig null values for Categorical Variable\n",
    "\n",
    "from sklearn.impute import SimpleImputer\n",
    "\n",
    "# Separate the columns with missing values\n",
    "missing_col1 = ['step', 'nameOrig', 'nameDest','isFraud','isFlaggedFraud']\n",
    "\n",
    "# Create a KNN imputer object\n",
    "imputer = SimpleImputer(strategy='most_frequent')\n",
    "\n",
    "# Impute the missing values\n",
    "df[missing_col1] = imputer.fit_transform(df[missing_col1])"
   ]
  },
  {
   "cell_type": "markdown",
   "id": "1e8b0c94",
   "metadata": {},
   "source": [
    "#### Getting Zero Null Values after using Imputation technique to convert the null values into categorical values."
   ]
  },
  {
   "cell_type": "code",
   "execution_count": 25,
   "id": "f48e7f04",
   "metadata": {
    "colab": {
     "base_uri": "https://localhost:8080/"
    },
    "id": "f48e7f04",
    "outputId": "9496c5f7-6d62-44b8-d358-5f3fcd84715f"
   },
   "outputs": [
    {
     "data": {
      "text/plain": [
       "step              0\n",
       "type              0\n",
       "amount            0\n",
       "nameOrig          0\n",
       "oldbalanceOrg     0\n",
       "newbalanceOrig    0\n",
       "nameDest          0\n",
       "oldbalanceDest    0\n",
       "newbalanceDest    0\n",
       "isFraud           0\n",
       "isFlaggedFraud    0\n",
       "dtype: int64"
      ]
     },
     "execution_count": 25,
     "metadata": {},
     "output_type": "execute_result"
    }
   ],
   "source": [
    "df.isna().sum()"
   ]
  },
  {
   "cell_type": "markdown",
   "id": "c27bf683",
   "metadata": {},
   "source": [
    "###  This will helpp us to check if there are any mismatches in the balance at the origin and destination after a transaction is made, and calculates the percentage of transactions that have balance errors."
   ]
  },
  {
   "cell_type": "code",
   "execution_count": 26,
   "id": "3d614abc",
   "metadata": {
    "colab": {
     "base_uri": "https://localhost:8080/"
    },
    "id": "3d614abc",
    "outputId": "065de572-2dbc-442b-e347-8371fb89122a"
   },
   "outputs": [
    {
     "name": "stdout",
     "output_type": "stream",
     "text": [
      "Are there any mismatch in the balance at origin and destination after transaction?\n",
      "Balance Error(%) at the Sender: 1    98.4\n",
      "0     1.6\n",
      "Name: error_orig, dtype: float64\n",
      "Balance Error(%) at the Receiver: 1    92.73\n",
      "0     7.27\n",
      "Name: error_dest, dtype: float64\n"
     ]
    }
   ],
   "source": [
    "print(\"Are there any mismatch in the balance at origin and destination after transaction?\")\n",
    "df['error_orig'] = (df[\"oldbalanceOrg\"] - df[\"amount\"] != df[\"newbalanceOrig\"]).astype(int)\n",
    "df['error_dest'] = (df[\"oldbalanceDest\"] + df[\"amount\"] != df[\"newbalanceDest\"]).astype(int)\n",
    "\n",
    "print(\"Balance Error(%) at the Sender:\",round(df['error_orig'].value_counts()/df.shape[0] * 100,2))\n",
    "print(\"Balance Error(%) at the Receiver:\",round(df['error_dest'].value_counts()/df.shape[0] * 100,2))\n",
    "\n",
    "#print(\"Valid Balance(%) at the origin:\",round(data['error_orig'].value_counts()[0]/data.shape[0] * 100,2))\n",
    "#print(\"Valid Balance(%) at the dest:\",round(data['error_dest'].value_counts()[0]/data.shape[0] * 100,2))"
   ]
  },
  {
   "cell_type": "markdown",
   "id": "089d1cb0",
   "metadata": {},
   "source": [
    "#### creates two new columns in a pandas DataFrame df, newbalanceSender and newbalanceReceiver, which represent the updated balances for the sender and receiver accounts after a transaction has occurred. Also, this helps us to  ensure that the transactions have been processed correctly and that the account balances have been updated appropriately."
   ]
  },
  {
   "cell_type": "code",
   "execution_count": 27,
   "id": "0b5256d0",
   "metadata": {
    "id": "0b5256d0"
   },
   "outputs": [],
   "source": [
    "df['newbalanceSender']= df['oldbalanceOrg'] - df['amount'].astype(float)\n",
    "df['newbalanceReceiver'] = df['oldbalanceDest'] + df['amount'].astype(float)"
   ]
  },
  {
   "cell_type": "code",
   "execution_count": 28,
   "id": "e13d7b95",
   "metadata": {
    "colab": {
     "base_uri": "https://localhost:8080/",
     "height": 488
    },
    "id": "e13d7b95",
    "outputId": "aaa56f56-2ad1-4342-8875-f07cb283c4ea"
   },
   "outputs": [
    {
     "data": {
      "text/html": [
       "<div>\n",
       "<style scoped>\n",
       "    .dataframe tbody tr th:only-of-type {\n",
       "        vertical-align: middle;\n",
       "    }\n",
       "\n",
       "    .dataframe tbody tr th {\n",
       "        vertical-align: top;\n",
       "    }\n",
       "\n",
       "    .dataframe thead th {\n",
       "        text-align: right;\n",
       "    }\n",
       "</style>\n",
       "<table border=\"1\" class=\"dataframe\">\n",
       "  <thead>\n",
       "    <tr style=\"text-align: right;\">\n",
       "      <th></th>\n",
       "      <th>step</th>\n",
       "      <th>type</th>\n",
       "      <th>amount</th>\n",
       "      <th>nameOrig</th>\n",
       "      <th>oldbalanceOrg</th>\n",
       "      <th>newbalanceOrig</th>\n",
       "      <th>nameDest</th>\n",
       "      <th>oldbalanceDest</th>\n",
       "      <th>newbalanceDest</th>\n",
       "      <th>isFraud</th>\n",
       "      <th>isFlaggedFraud</th>\n",
       "      <th>error_orig</th>\n",
       "      <th>error_dest</th>\n",
       "      <th>newbalanceSender</th>\n",
       "      <th>newbalanceReceiver</th>\n",
       "    </tr>\n",
       "  </thead>\n",
       "  <tbody>\n",
       "    <tr>\n",
       "      <th>0</th>\n",
       "      <td>1.0</td>\n",
       "      <td>PAYMENT</td>\n",
       "      <td>9839.64</td>\n",
       "      <td>C1231006815</td>\n",
       "      <td>170136.0</td>\n",
       "      <td>160296.36</td>\n",
       "      <td>M1979787155</td>\n",
       "      <td>0.00</td>\n",
       "      <td>0.00</td>\n",
       "      <td>0.0</td>\n",
       "      <td>0.0</td>\n",
       "      <td>0</td>\n",
       "      <td>1</td>\n",
       "      <td>160296.36</td>\n",
       "      <td>9839.64</td>\n",
       "    </tr>\n",
       "    <tr>\n",
       "      <th>1</th>\n",
       "      <td>1.0</td>\n",
       "      <td>PAYMENT</td>\n",
       "      <td>1864.28</td>\n",
       "      <td>C1666544295</td>\n",
       "      <td>21249.0</td>\n",
       "      <td>19384.72</td>\n",
       "      <td>M2044282225</td>\n",
       "      <td>0.00</td>\n",
       "      <td>0.00</td>\n",
       "      <td>0.0</td>\n",
       "      <td>0.0</td>\n",
       "      <td>0</td>\n",
       "      <td>1</td>\n",
       "      <td>19384.72</td>\n",
       "      <td>1864.28</td>\n",
       "    </tr>\n",
       "    <tr>\n",
       "      <th>2</th>\n",
       "      <td>1.0</td>\n",
       "      <td>TRANSFER</td>\n",
       "      <td>181.00</td>\n",
       "      <td>C1305486145</td>\n",
       "      <td>181.0</td>\n",
       "      <td>0.00</td>\n",
       "      <td>C553264065</td>\n",
       "      <td>0.00</td>\n",
       "      <td>0.00</td>\n",
       "      <td>1.0</td>\n",
       "      <td>0.0</td>\n",
       "      <td>0</td>\n",
       "      <td>1</td>\n",
       "      <td>0.00</td>\n",
       "      <td>181.00</td>\n",
       "    </tr>\n",
       "    <tr>\n",
       "      <th>3</th>\n",
       "      <td>1.0</td>\n",
       "      <td>CASH_OUT</td>\n",
       "      <td>181.00</td>\n",
       "      <td>C840083671</td>\n",
       "      <td>181.0</td>\n",
       "      <td>0.00</td>\n",
       "      <td>C38997010</td>\n",
       "      <td>21182.00</td>\n",
       "      <td>0.00</td>\n",
       "      <td>1.0</td>\n",
       "      <td>0.0</td>\n",
       "      <td>0</td>\n",
       "      <td>1</td>\n",
       "      <td>0.00</td>\n",
       "      <td>21363.00</td>\n",
       "    </tr>\n",
       "    <tr>\n",
       "      <th>4</th>\n",
       "      <td>1.0</td>\n",
       "      <td>PAYMENT</td>\n",
       "      <td>11668.14</td>\n",
       "      <td>C2048537720</td>\n",
       "      <td>41554.0</td>\n",
       "      <td>29885.86</td>\n",
       "      <td>M1230701703</td>\n",
       "      <td>0.00</td>\n",
       "      <td>0.00</td>\n",
       "      <td>0.0</td>\n",
       "      <td>0.0</td>\n",
       "      <td>0</td>\n",
       "      <td>1</td>\n",
       "      <td>29885.86</td>\n",
       "      <td>11668.14</td>\n",
       "    </tr>\n",
       "    <tr>\n",
       "      <th>...</th>\n",
       "      <td>...</td>\n",
       "      <td>...</td>\n",
       "      <td>...</td>\n",
       "      <td>...</td>\n",
       "      <td>...</td>\n",
       "      <td>...</td>\n",
       "      <td>...</td>\n",
       "      <td>...</td>\n",
       "      <td>...</td>\n",
       "      <td>...</td>\n",
       "      <td>...</td>\n",
       "      <td>...</td>\n",
       "      <td>...</td>\n",
       "      <td>...</td>\n",
       "      <td>...</td>\n",
       "    </tr>\n",
       "    <tr>\n",
       "      <th>99995</th>\n",
       "      <td>10.0</td>\n",
       "      <td>PAYMENT</td>\n",
       "      <td>4020.66</td>\n",
       "      <td>C1410794718</td>\n",
       "      <td>20100.0</td>\n",
       "      <td>155908.34</td>\n",
       "      <td>M1257036576</td>\n",
       "      <td>0.00</td>\n",
       "      <td>0.00</td>\n",
       "      <td>0.0</td>\n",
       "      <td>0.0</td>\n",
       "      <td>1</td>\n",
       "      <td>1</td>\n",
       "      <td>16079.34</td>\n",
       "      <td>4020.66</td>\n",
       "    </tr>\n",
       "    <tr>\n",
       "      <th>99996</th>\n",
       "      <td>10.0</td>\n",
       "      <td>PAYMENT</td>\n",
       "      <td>18345.49</td>\n",
       "      <td>C744303677</td>\n",
       "      <td>20100.0</td>\n",
       "      <td>0.00</td>\n",
       "      <td>M1785344556</td>\n",
       "      <td>0.00</td>\n",
       "      <td>0.00</td>\n",
       "      <td>0.0</td>\n",
       "      <td>0.0</td>\n",
       "      <td>1</td>\n",
       "      <td>1</td>\n",
       "      <td>1754.51</td>\n",
       "      <td>18345.49</td>\n",
       "    </tr>\n",
       "    <tr>\n",
       "      <th>99997</th>\n",
       "      <td>10.0</td>\n",
       "      <td>CASH_IN</td>\n",
       "      <td>183774.91</td>\n",
       "      <td>C104331851</td>\n",
       "      <td>20100.0</td>\n",
       "      <td>222947.91</td>\n",
       "      <td>C36392889</td>\n",
       "      <td>54925.05</td>\n",
       "      <td>0.00</td>\n",
       "      <td>0.0</td>\n",
       "      <td>0.0</td>\n",
       "      <td>1</td>\n",
       "      <td>1</td>\n",
       "      <td>-163674.91</td>\n",
       "      <td>238699.96</td>\n",
       "    </tr>\n",
       "    <tr>\n",
       "      <th>99998</th>\n",
       "      <td>10.0</td>\n",
       "      <td>CASH_OUT</td>\n",
       "      <td>82237.17</td>\n",
       "      <td>C707662966</td>\n",
       "      <td>20100.0</td>\n",
       "      <td>0.00</td>\n",
       "      <td>C1553004158</td>\n",
       "      <td>592635.66</td>\n",
       "      <td>799140.46</td>\n",
       "      <td>0.0</td>\n",
       "      <td>0.0</td>\n",
       "      <td>1</td>\n",
       "      <td>1</td>\n",
       "      <td>-62137.17</td>\n",
       "      <td>674872.83</td>\n",
       "    </tr>\n",
       "    <tr>\n",
       "      <th>99999</th>\n",
       "      <td>10.0</td>\n",
       "      <td>PAYMENT</td>\n",
       "      <td>20096.56</td>\n",
       "      <td>C1868032458</td>\n",
       "      <td>20100.0</td>\n",
       "      <td>90020.44</td>\n",
       "      <td>M1419201886</td>\n",
       "      <td>0.00</td>\n",
       "      <td>0.00</td>\n",
       "      <td>0.0</td>\n",
       "      <td>0.0</td>\n",
       "      <td>1</td>\n",
       "      <td>1</td>\n",
       "      <td>3.44</td>\n",
       "      <td>20096.56</td>\n",
       "    </tr>\n",
       "  </tbody>\n",
       "</table>\n",
       "<p>100000 rows × 15 columns</p>\n",
       "</div>"
      ],
      "text/plain": [
       "       step      type     amount     nameOrig  oldbalanceOrg  newbalanceOrig  \\\n",
       "0       1.0   PAYMENT    9839.64  C1231006815       170136.0       160296.36   \n",
       "1       1.0   PAYMENT    1864.28  C1666544295        21249.0        19384.72   \n",
       "2       1.0  TRANSFER     181.00  C1305486145          181.0            0.00   \n",
       "3       1.0  CASH_OUT     181.00   C840083671          181.0            0.00   \n",
       "4       1.0   PAYMENT   11668.14  C2048537720        41554.0        29885.86   \n",
       "...     ...       ...        ...          ...            ...             ...   \n",
       "99995  10.0   PAYMENT    4020.66  C1410794718        20100.0       155908.34   \n",
       "99996  10.0   PAYMENT   18345.49   C744303677        20100.0            0.00   \n",
       "99997  10.0   CASH_IN  183774.91   C104331851        20100.0       222947.91   \n",
       "99998  10.0  CASH_OUT   82237.17   C707662966        20100.0            0.00   \n",
       "99999  10.0   PAYMENT   20096.56  C1868032458        20100.0        90020.44   \n",
       "\n",
       "          nameDest  oldbalanceDest  newbalanceDest isFraud isFlaggedFraud  \\\n",
       "0      M1979787155            0.00            0.00     0.0            0.0   \n",
       "1      M2044282225            0.00            0.00     0.0            0.0   \n",
       "2       C553264065            0.00            0.00     1.0            0.0   \n",
       "3        C38997010        21182.00            0.00     1.0            0.0   \n",
       "4      M1230701703            0.00            0.00     0.0            0.0   \n",
       "...            ...             ...             ...     ...            ...   \n",
       "99995  M1257036576            0.00            0.00     0.0            0.0   \n",
       "99996  M1785344556            0.00            0.00     0.0            0.0   \n",
       "99997    C36392889        54925.05            0.00     0.0            0.0   \n",
       "99998  C1553004158       592635.66       799140.46     0.0            0.0   \n",
       "99999  M1419201886            0.00            0.00     0.0            0.0   \n",
       "\n",
       "       error_orig  error_dest  newbalanceSender  newbalanceReceiver  \n",
       "0               0           1         160296.36             9839.64  \n",
       "1               0           1          19384.72             1864.28  \n",
       "2               0           1              0.00              181.00  \n",
       "3               0           1              0.00            21363.00  \n",
       "4               0           1          29885.86            11668.14  \n",
       "...           ...         ...               ...                 ...  \n",
       "99995           1           1          16079.34             4020.66  \n",
       "99996           1           1           1754.51            18345.49  \n",
       "99997           1           1        -163674.91           238699.96  \n",
       "99998           1           1         -62137.17           674872.83  \n",
       "99999           1           1              3.44            20096.56  \n",
       "\n",
       "[100000 rows x 15 columns]"
      ]
     },
     "execution_count": 28,
     "metadata": {},
     "output_type": "execute_result"
    }
   ],
   "source": [
    "df"
   ]
  },
  {
   "cell_type": "code",
   "execution_count": 29,
   "id": "d44865a0",
   "metadata": {
    "colab": {
     "base_uri": "https://localhost:8080/"
    },
    "id": "d44865a0",
    "outputId": "443a831e-4ed7-4891-ac0c-ecddce6e20f8"
   },
   "outputs": [
    {
     "name": "stdout",
     "output_type": "stream",
     "text": [
      "       step      type     amount     nameOrig  oldbalanceOrg  newbalanceOrig  \\\n",
      "0       1.0   PAYMENT    9839.64  C1231006815       170136.0       160296.36   \n",
      "1       1.0   PAYMENT    1864.28  C1666544295        21249.0        19384.72   \n",
      "2       1.0  TRANSFER     181.00  C1305486145          181.0            0.00   \n",
      "3       1.0  CASH_OUT     181.00   C840083671          181.0            0.00   \n",
      "4       1.0   PAYMENT   11668.14  C2048537720        41554.0        29885.86   \n",
      "...     ...       ...        ...          ...            ...             ...   \n",
      "99995  10.0   PAYMENT    4020.66  C1410794718        20100.0       155908.34   \n",
      "99996  10.0   PAYMENT   18345.49   C744303677        20100.0            0.00   \n",
      "99997  10.0   CASH_IN  183774.91   C104331851        20100.0       222947.91   \n",
      "99998  10.0  CASH_OUT   82237.17   C707662966        20100.0            0.00   \n",
      "99999  10.0   PAYMENT   20096.56  C1868032458        20100.0        90020.44   \n",
      "\n",
      "          nameDest  oldbalanceDest  newbalanceDest isFraud isFlaggedFraud  \\\n",
      "0      M1979787155            0.00            0.00     0.0            0.0   \n",
      "1      M2044282225            0.00            0.00     0.0            0.0   \n",
      "2       C553264065            0.00            0.00     1.0            0.0   \n",
      "3        C38997010        21182.00            0.00     1.0            0.0   \n",
      "4      M1230701703            0.00            0.00     0.0            0.0   \n",
      "...            ...             ...             ...     ...            ...   \n",
      "99995  M1257036576            0.00            0.00     0.0            0.0   \n",
      "99996  M1785344556            0.00            0.00     0.0            0.0   \n",
      "99997    C36392889        54925.05            0.00     0.0            0.0   \n",
      "99998  C1553004158       592635.66       799140.46     0.0            0.0   \n",
      "99999  M1419201886            0.00            0.00     0.0            0.0   \n",
      "\n",
      "       error_orig  error_dest  newbalanceSender  newbalanceReceiver  \n",
      "0               0           1         160296.36             9839.64  \n",
      "1               0           1          19384.72             1864.28  \n",
      "2               0           1              0.00              181.00  \n",
      "3               0           1              0.00            21363.00  \n",
      "4               0           1          29885.86            11668.14  \n",
      "...           ...         ...               ...                 ...  \n",
      "99995           1           1          16079.34             4020.66  \n",
      "99996           1           1           1754.51            18345.49  \n",
      "99997           1           1              0.00           238699.96  \n",
      "99998           1           1              0.00           674872.83  \n",
      "99999           1           1              3.44            20096.56  \n",
      "\n",
      "[100000 rows x 15 columns]\n"
     ]
    }
   ],
   "source": [
    "### Replacing negative integers with zero using a lambda function. Neg Values are Present in newbalanceSender\n",
    "\n",
    "df['newbalanceSender'] = df['newbalanceSender'].apply(lambda x: 0 if x < 0 else x)\n",
    "\n",
    "# print the updated DataFrame\n",
    "print(df)"
   ]
  },
  {
   "cell_type": "markdown",
   "id": "ce35a0dc",
   "metadata": {},
   "source": [
    "#### Lets us to check if there are any mismatches in the balance at the origin and destination after a transaction is made, and calculates the percentage of transactions that have balance error"
   ]
  },
  {
   "cell_type": "code",
   "execution_count": 30,
   "id": "6dba5dbe",
   "metadata": {
    "colab": {
     "base_uri": "https://localhost:8080/"
    },
    "id": "6dba5dbe",
    "outputId": "4011c20e-a5f0-4838-c9e9-4844515d20d9"
   },
   "outputs": [
    {
     "name": "stdout",
     "output_type": "stream",
     "text": [
      "Are there any mismatch in the balance at origin and destination after transaction?\n",
      "Balance Error(%) at the Sender: 1    100.0\n",
      "Name: error_orig, dtype: float64\n",
      "Balance Error(%) at the Receiver: 0    100.0\n",
      "Name: error_dest, dtype: float64\n"
     ]
    }
   ],
   "source": [
    "print(\"Are there any mismatch in the balance at origin and destination after transaction?\")\n",
    "df['error_orig'] = (df[\"oldbalanceOrg\"] - df[\"amount\"] <= df[\"newbalanceSender\"]).astype(int)\n",
    "df['error_dest'] = (df[\"oldbalanceDest\"] + df[\"amount\"] != df[\"newbalanceReceiver\"]).astype(int)\n",
    "\n",
    "print(\"Balance Error(%) at the Sender:\",round(df['error_orig'].value_counts()/df.shape[0] * 100,2))\n",
    "print(\"Balance Error(%) at the Receiver:\",round(df['error_dest'].value_counts()/df.shape[0] * 100,2))\n",
    "\n",
    "#print(\"Valid Balance(%) at the origin:\",round(data['error_orig'].value_counts()[0]/data.shape[0] * 100,2))\n",
    "#print(\"Valid Balance(%) at the dest:\",round(data['error_dest'].value_counts()[0]/data.shape[0] * 100,2))"
   ]
  },
  {
   "cell_type": "code",
   "execution_count": 31,
   "id": "cfc4f343",
   "metadata": {
    "colab": {
     "base_uri": "https://localhost:8080/",
     "height": 488
    },
    "id": "cfc4f343",
    "outputId": "820f9442-f6a3-4425-80f9-f37ccdfec145"
   },
   "outputs": [
    {
     "data": {
      "text/html": [
       "<div>\n",
       "<style scoped>\n",
       "    .dataframe tbody tr th:only-of-type {\n",
       "        vertical-align: middle;\n",
       "    }\n",
       "\n",
       "    .dataframe tbody tr th {\n",
       "        vertical-align: top;\n",
       "    }\n",
       "\n",
       "    .dataframe thead th {\n",
       "        text-align: right;\n",
       "    }\n",
       "</style>\n",
       "<table border=\"1\" class=\"dataframe\">\n",
       "  <thead>\n",
       "    <tr style=\"text-align: right;\">\n",
       "      <th></th>\n",
       "      <th>step</th>\n",
       "      <th>type</th>\n",
       "      <th>amount</th>\n",
       "      <th>nameOrig</th>\n",
       "      <th>oldbalanceOrg</th>\n",
       "      <th>newbalanceOrig</th>\n",
       "      <th>nameDest</th>\n",
       "      <th>oldbalanceDest</th>\n",
       "      <th>newbalanceDest</th>\n",
       "      <th>isFraud</th>\n",
       "      <th>isFlaggedFraud</th>\n",
       "      <th>error_orig</th>\n",
       "      <th>error_dest</th>\n",
       "      <th>newbalanceSender</th>\n",
       "      <th>newbalanceReceiver</th>\n",
       "    </tr>\n",
       "  </thead>\n",
       "  <tbody>\n",
       "    <tr>\n",
       "      <th>0</th>\n",
       "      <td>1.0</td>\n",
       "      <td>PAYMENT</td>\n",
       "      <td>9839.64</td>\n",
       "      <td>C1231006815</td>\n",
       "      <td>170136.0</td>\n",
       "      <td>160296.36</td>\n",
       "      <td>M1979787155</td>\n",
       "      <td>0.00</td>\n",
       "      <td>0.00</td>\n",
       "      <td>0.0</td>\n",
       "      <td>0.0</td>\n",
       "      <td>1</td>\n",
       "      <td>0</td>\n",
       "      <td>160296.36</td>\n",
       "      <td>9839.64</td>\n",
       "    </tr>\n",
       "    <tr>\n",
       "      <th>1</th>\n",
       "      <td>1.0</td>\n",
       "      <td>PAYMENT</td>\n",
       "      <td>1864.28</td>\n",
       "      <td>C1666544295</td>\n",
       "      <td>21249.0</td>\n",
       "      <td>19384.72</td>\n",
       "      <td>M2044282225</td>\n",
       "      <td>0.00</td>\n",
       "      <td>0.00</td>\n",
       "      <td>0.0</td>\n",
       "      <td>0.0</td>\n",
       "      <td>1</td>\n",
       "      <td>0</td>\n",
       "      <td>19384.72</td>\n",
       "      <td>1864.28</td>\n",
       "    </tr>\n",
       "    <tr>\n",
       "      <th>2</th>\n",
       "      <td>1.0</td>\n",
       "      <td>TRANSFER</td>\n",
       "      <td>181.00</td>\n",
       "      <td>C1305486145</td>\n",
       "      <td>181.0</td>\n",
       "      <td>0.00</td>\n",
       "      <td>C553264065</td>\n",
       "      <td>0.00</td>\n",
       "      <td>0.00</td>\n",
       "      <td>1.0</td>\n",
       "      <td>0.0</td>\n",
       "      <td>1</td>\n",
       "      <td>0</td>\n",
       "      <td>0.00</td>\n",
       "      <td>181.00</td>\n",
       "    </tr>\n",
       "    <tr>\n",
       "      <th>3</th>\n",
       "      <td>1.0</td>\n",
       "      <td>CASH_OUT</td>\n",
       "      <td>181.00</td>\n",
       "      <td>C840083671</td>\n",
       "      <td>181.0</td>\n",
       "      <td>0.00</td>\n",
       "      <td>C38997010</td>\n",
       "      <td>21182.00</td>\n",
       "      <td>0.00</td>\n",
       "      <td>1.0</td>\n",
       "      <td>0.0</td>\n",
       "      <td>1</td>\n",
       "      <td>0</td>\n",
       "      <td>0.00</td>\n",
       "      <td>21363.00</td>\n",
       "    </tr>\n",
       "    <tr>\n",
       "      <th>4</th>\n",
       "      <td>1.0</td>\n",
       "      <td>PAYMENT</td>\n",
       "      <td>11668.14</td>\n",
       "      <td>C2048537720</td>\n",
       "      <td>41554.0</td>\n",
       "      <td>29885.86</td>\n",
       "      <td>M1230701703</td>\n",
       "      <td>0.00</td>\n",
       "      <td>0.00</td>\n",
       "      <td>0.0</td>\n",
       "      <td>0.0</td>\n",
       "      <td>1</td>\n",
       "      <td>0</td>\n",
       "      <td>29885.86</td>\n",
       "      <td>11668.14</td>\n",
       "    </tr>\n",
       "    <tr>\n",
       "      <th>...</th>\n",
       "      <td>...</td>\n",
       "      <td>...</td>\n",
       "      <td>...</td>\n",
       "      <td>...</td>\n",
       "      <td>...</td>\n",
       "      <td>...</td>\n",
       "      <td>...</td>\n",
       "      <td>...</td>\n",
       "      <td>...</td>\n",
       "      <td>...</td>\n",
       "      <td>...</td>\n",
       "      <td>...</td>\n",
       "      <td>...</td>\n",
       "      <td>...</td>\n",
       "      <td>...</td>\n",
       "    </tr>\n",
       "    <tr>\n",
       "      <th>99995</th>\n",
       "      <td>10.0</td>\n",
       "      <td>PAYMENT</td>\n",
       "      <td>4020.66</td>\n",
       "      <td>C1410794718</td>\n",
       "      <td>20100.0</td>\n",
       "      <td>155908.34</td>\n",
       "      <td>M1257036576</td>\n",
       "      <td>0.00</td>\n",
       "      <td>0.00</td>\n",
       "      <td>0.0</td>\n",
       "      <td>0.0</td>\n",
       "      <td>1</td>\n",
       "      <td>0</td>\n",
       "      <td>16079.34</td>\n",
       "      <td>4020.66</td>\n",
       "    </tr>\n",
       "    <tr>\n",
       "      <th>99996</th>\n",
       "      <td>10.0</td>\n",
       "      <td>PAYMENT</td>\n",
       "      <td>18345.49</td>\n",
       "      <td>C744303677</td>\n",
       "      <td>20100.0</td>\n",
       "      <td>0.00</td>\n",
       "      <td>M1785344556</td>\n",
       "      <td>0.00</td>\n",
       "      <td>0.00</td>\n",
       "      <td>0.0</td>\n",
       "      <td>0.0</td>\n",
       "      <td>1</td>\n",
       "      <td>0</td>\n",
       "      <td>1754.51</td>\n",
       "      <td>18345.49</td>\n",
       "    </tr>\n",
       "    <tr>\n",
       "      <th>99997</th>\n",
       "      <td>10.0</td>\n",
       "      <td>CASH_IN</td>\n",
       "      <td>183774.91</td>\n",
       "      <td>C104331851</td>\n",
       "      <td>20100.0</td>\n",
       "      <td>222947.91</td>\n",
       "      <td>C36392889</td>\n",
       "      <td>54925.05</td>\n",
       "      <td>0.00</td>\n",
       "      <td>0.0</td>\n",
       "      <td>0.0</td>\n",
       "      <td>1</td>\n",
       "      <td>0</td>\n",
       "      <td>0.00</td>\n",
       "      <td>238699.96</td>\n",
       "    </tr>\n",
       "    <tr>\n",
       "      <th>99998</th>\n",
       "      <td>10.0</td>\n",
       "      <td>CASH_OUT</td>\n",
       "      <td>82237.17</td>\n",
       "      <td>C707662966</td>\n",
       "      <td>20100.0</td>\n",
       "      <td>0.00</td>\n",
       "      <td>C1553004158</td>\n",
       "      <td>592635.66</td>\n",
       "      <td>799140.46</td>\n",
       "      <td>0.0</td>\n",
       "      <td>0.0</td>\n",
       "      <td>1</td>\n",
       "      <td>0</td>\n",
       "      <td>0.00</td>\n",
       "      <td>674872.83</td>\n",
       "    </tr>\n",
       "    <tr>\n",
       "      <th>99999</th>\n",
       "      <td>10.0</td>\n",
       "      <td>PAYMENT</td>\n",
       "      <td>20096.56</td>\n",
       "      <td>C1868032458</td>\n",
       "      <td>20100.0</td>\n",
       "      <td>90020.44</td>\n",
       "      <td>M1419201886</td>\n",
       "      <td>0.00</td>\n",
       "      <td>0.00</td>\n",
       "      <td>0.0</td>\n",
       "      <td>0.0</td>\n",
       "      <td>1</td>\n",
       "      <td>0</td>\n",
       "      <td>3.44</td>\n",
       "      <td>20096.56</td>\n",
       "    </tr>\n",
       "  </tbody>\n",
       "</table>\n",
       "<p>100000 rows × 15 columns</p>\n",
       "</div>"
      ],
      "text/plain": [
       "       step      type     amount     nameOrig  oldbalanceOrg  newbalanceOrig  \\\n",
       "0       1.0   PAYMENT    9839.64  C1231006815       170136.0       160296.36   \n",
       "1       1.0   PAYMENT    1864.28  C1666544295        21249.0        19384.72   \n",
       "2       1.0  TRANSFER     181.00  C1305486145          181.0            0.00   \n",
       "3       1.0  CASH_OUT     181.00   C840083671          181.0            0.00   \n",
       "4       1.0   PAYMENT   11668.14  C2048537720        41554.0        29885.86   \n",
       "...     ...       ...        ...          ...            ...             ...   \n",
       "99995  10.0   PAYMENT    4020.66  C1410794718        20100.0       155908.34   \n",
       "99996  10.0   PAYMENT   18345.49   C744303677        20100.0            0.00   \n",
       "99997  10.0   CASH_IN  183774.91   C104331851        20100.0       222947.91   \n",
       "99998  10.0  CASH_OUT   82237.17   C707662966        20100.0            0.00   \n",
       "99999  10.0   PAYMENT   20096.56  C1868032458        20100.0        90020.44   \n",
       "\n",
       "          nameDest  oldbalanceDest  newbalanceDest isFraud isFlaggedFraud  \\\n",
       "0      M1979787155            0.00            0.00     0.0            0.0   \n",
       "1      M2044282225            0.00            0.00     0.0            0.0   \n",
       "2       C553264065            0.00            0.00     1.0            0.0   \n",
       "3        C38997010        21182.00            0.00     1.0            0.0   \n",
       "4      M1230701703            0.00            0.00     0.0            0.0   \n",
       "...            ...             ...             ...     ...            ...   \n",
       "99995  M1257036576            0.00            0.00     0.0            0.0   \n",
       "99996  M1785344556            0.00            0.00     0.0            0.0   \n",
       "99997    C36392889        54925.05            0.00     0.0            0.0   \n",
       "99998  C1553004158       592635.66       799140.46     0.0            0.0   \n",
       "99999  M1419201886            0.00            0.00     0.0            0.0   \n",
       "\n",
       "       error_orig  error_dest  newbalanceSender  newbalanceReceiver  \n",
       "0               1           0         160296.36             9839.64  \n",
       "1               1           0          19384.72             1864.28  \n",
       "2               1           0              0.00              181.00  \n",
       "3               1           0              0.00            21363.00  \n",
       "4               1           0          29885.86            11668.14  \n",
       "...           ...         ...               ...                 ...  \n",
       "99995           1           0          16079.34             4020.66  \n",
       "99996           1           0           1754.51            18345.49  \n",
       "99997           1           0              0.00           238699.96  \n",
       "99998           1           0              0.00           674872.83  \n",
       "99999           1           0              3.44            20096.56  \n",
       "\n",
       "[100000 rows x 15 columns]"
      ]
     },
     "execution_count": 31,
     "metadata": {},
     "output_type": "execute_result"
    }
   ],
   "source": [
    "df"
   ]
  },
  {
   "cell_type": "code",
   "execution_count": 32,
   "id": "f9f584c8",
   "metadata": {
    "colab": {
     "base_uri": "https://localhost:8080/",
     "height": 488
    },
    "id": "f9f584c8",
    "outputId": "855e6f4b-7337-4df5-be69-60b85c69a165"
   },
   "outputs": [
    {
     "data": {
      "text/html": [
       "<div>\n",
       "<style scoped>\n",
       "    .dataframe tbody tr th:only-of-type {\n",
       "        vertical-align: middle;\n",
       "    }\n",
       "\n",
       "    .dataframe tbody tr th {\n",
       "        vertical-align: top;\n",
       "    }\n",
       "\n",
       "    .dataframe thead th {\n",
       "        text-align: right;\n",
       "    }\n",
       "</style>\n",
       "<table border=\"1\" class=\"dataframe\">\n",
       "  <thead>\n",
       "    <tr style=\"text-align: right;\">\n",
       "      <th></th>\n",
       "      <th>step</th>\n",
       "      <th>type</th>\n",
       "      <th>amount</th>\n",
       "      <th>nameOrig</th>\n",
       "      <th>oldbalanceOrg</th>\n",
       "      <th>nameDest</th>\n",
       "      <th>oldbalanceDest</th>\n",
       "      <th>isFraud</th>\n",
       "      <th>isFlaggedFraud</th>\n",
       "      <th>newbalanceSender</th>\n",
       "      <th>newbalanceReceiver</th>\n",
       "    </tr>\n",
       "  </thead>\n",
       "  <tbody>\n",
       "    <tr>\n",
       "      <th>0</th>\n",
       "      <td>1.0</td>\n",
       "      <td>PAYMENT</td>\n",
       "      <td>9839.64</td>\n",
       "      <td>C1231006815</td>\n",
       "      <td>170136.0</td>\n",
       "      <td>M1979787155</td>\n",
       "      <td>0.00</td>\n",
       "      <td>0.0</td>\n",
       "      <td>0.0</td>\n",
       "      <td>160296.36</td>\n",
       "      <td>9839.64</td>\n",
       "    </tr>\n",
       "    <tr>\n",
       "      <th>1</th>\n",
       "      <td>1.0</td>\n",
       "      <td>PAYMENT</td>\n",
       "      <td>1864.28</td>\n",
       "      <td>C1666544295</td>\n",
       "      <td>21249.0</td>\n",
       "      <td>M2044282225</td>\n",
       "      <td>0.00</td>\n",
       "      <td>0.0</td>\n",
       "      <td>0.0</td>\n",
       "      <td>19384.72</td>\n",
       "      <td>1864.28</td>\n",
       "    </tr>\n",
       "    <tr>\n",
       "      <th>2</th>\n",
       "      <td>1.0</td>\n",
       "      <td>TRANSFER</td>\n",
       "      <td>181.00</td>\n",
       "      <td>C1305486145</td>\n",
       "      <td>181.0</td>\n",
       "      <td>C553264065</td>\n",
       "      <td>0.00</td>\n",
       "      <td>1.0</td>\n",
       "      <td>0.0</td>\n",
       "      <td>0.00</td>\n",
       "      <td>181.00</td>\n",
       "    </tr>\n",
       "    <tr>\n",
       "      <th>3</th>\n",
       "      <td>1.0</td>\n",
       "      <td>CASH_OUT</td>\n",
       "      <td>181.00</td>\n",
       "      <td>C840083671</td>\n",
       "      <td>181.0</td>\n",
       "      <td>C38997010</td>\n",
       "      <td>21182.00</td>\n",
       "      <td>1.0</td>\n",
       "      <td>0.0</td>\n",
       "      <td>0.00</td>\n",
       "      <td>21363.00</td>\n",
       "    </tr>\n",
       "    <tr>\n",
       "      <th>4</th>\n",
       "      <td>1.0</td>\n",
       "      <td>PAYMENT</td>\n",
       "      <td>11668.14</td>\n",
       "      <td>C2048537720</td>\n",
       "      <td>41554.0</td>\n",
       "      <td>M1230701703</td>\n",
       "      <td>0.00</td>\n",
       "      <td>0.0</td>\n",
       "      <td>0.0</td>\n",
       "      <td>29885.86</td>\n",
       "      <td>11668.14</td>\n",
       "    </tr>\n",
       "    <tr>\n",
       "      <th>...</th>\n",
       "      <td>...</td>\n",
       "      <td>...</td>\n",
       "      <td>...</td>\n",
       "      <td>...</td>\n",
       "      <td>...</td>\n",
       "      <td>...</td>\n",
       "      <td>...</td>\n",
       "      <td>...</td>\n",
       "      <td>...</td>\n",
       "      <td>...</td>\n",
       "      <td>...</td>\n",
       "    </tr>\n",
       "    <tr>\n",
       "      <th>99995</th>\n",
       "      <td>10.0</td>\n",
       "      <td>PAYMENT</td>\n",
       "      <td>4020.66</td>\n",
       "      <td>C1410794718</td>\n",
       "      <td>20100.0</td>\n",
       "      <td>M1257036576</td>\n",
       "      <td>0.00</td>\n",
       "      <td>0.0</td>\n",
       "      <td>0.0</td>\n",
       "      <td>16079.34</td>\n",
       "      <td>4020.66</td>\n",
       "    </tr>\n",
       "    <tr>\n",
       "      <th>99996</th>\n",
       "      <td>10.0</td>\n",
       "      <td>PAYMENT</td>\n",
       "      <td>18345.49</td>\n",
       "      <td>C744303677</td>\n",
       "      <td>20100.0</td>\n",
       "      <td>M1785344556</td>\n",
       "      <td>0.00</td>\n",
       "      <td>0.0</td>\n",
       "      <td>0.0</td>\n",
       "      <td>1754.51</td>\n",
       "      <td>18345.49</td>\n",
       "    </tr>\n",
       "    <tr>\n",
       "      <th>99997</th>\n",
       "      <td>10.0</td>\n",
       "      <td>CASH_IN</td>\n",
       "      <td>183774.91</td>\n",
       "      <td>C104331851</td>\n",
       "      <td>20100.0</td>\n",
       "      <td>C36392889</td>\n",
       "      <td>54925.05</td>\n",
       "      <td>0.0</td>\n",
       "      <td>0.0</td>\n",
       "      <td>0.00</td>\n",
       "      <td>238699.96</td>\n",
       "    </tr>\n",
       "    <tr>\n",
       "      <th>99998</th>\n",
       "      <td>10.0</td>\n",
       "      <td>CASH_OUT</td>\n",
       "      <td>82237.17</td>\n",
       "      <td>C707662966</td>\n",
       "      <td>20100.0</td>\n",
       "      <td>C1553004158</td>\n",
       "      <td>592635.66</td>\n",
       "      <td>0.0</td>\n",
       "      <td>0.0</td>\n",
       "      <td>0.00</td>\n",
       "      <td>674872.83</td>\n",
       "    </tr>\n",
       "    <tr>\n",
       "      <th>99999</th>\n",
       "      <td>10.0</td>\n",
       "      <td>PAYMENT</td>\n",
       "      <td>20096.56</td>\n",
       "      <td>C1868032458</td>\n",
       "      <td>20100.0</td>\n",
       "      <td>M1419201886</td>\n",
       "      <td>0.00</td>\n",
       "      <td>0.0</td>\n",
       "      <td>0.0</td>\n",
       "      <td>3.44</td>\n",
       "      <td>20096.56</td>\n",
       "    </tr>\n",
       "  </tbody>\n",
       "</table>\n",
       "<p>100000 rows × 11 columns</p>\n",
       "</div>"
      ],
      "text/plain": [
       "       step      type     amount     nameOrig  oldbalanceOrg     nameDest  \\\n",
       "0       1.0   PAYMENT    9839.64  C1231006815       170136.0  M1979787155   \n",
       "1       1.0   PAYMENT    1864.28  C1666544295        21249.0  M2044282225   \n",
       "2       1.0  TRANSFER     181.00  C1305486145          181.0   C553264065   \n",
       "3       1.0  CASH_OUT     181.00   C840083671          181.0    C38997010   \n",
       "4       1.0   PAYMENT   11668.14  C2048537720        41554.0  M1230701703   \n",
       "...     ...       ...        ...          ...            ...          ...   \n",
       "99995  10.0   PAYMENT    4020.66  C1410794718        20100.0  M1257036576   \n",
       "99996  10.0   PAYMENT   18345.49   C744303677        20100.0  M1785344556   \n",
       "99997  10.0   CASH_IN  183774.91   C104331851        20100.0    C36392889   \n",
       "99998  10.0  CASH_OUT   82237.17   C707662966        20100.0  C1553004158   \n",
       "99999  10.0   PAYMENT   20096.56  C1868032458        20100.0  M1419201886   \n",
       "\n",
       "       oldbalanceDest isFraud isFlaggedFraud  newbalanceSender  \\\n",
       "0                0.00     0.0            0.0         160296.36   \n",
       "1                0.00     0.0            0.0          19384.72   \n",
       "2                0.00     1.0            0.0              0.00   \n",
       "3            21182.00     1.0            0.0              0.00   \n",
       "4                0.00     0.0            0.0          29885.86   \n",
       "...               ...     ...            ...               ...   \n",
       "99995            0.00     0.0            0.0          16079.34   \n",
       "99996            0.00     0.0            0.0           1754.51   \n",
       "99997        54925.05     0.0            0.0              0.00   \n",
       "99998       592635.66     0.0            0.0              0.00   \n",
       "99999            0.00     0.0            0.0              3.44   \n",
       "\n",
       "       newbalanceReceiver  \n",
       "0                 9839.64  \n",
       "1                 1864.28  \n",
       "2                  181.00  \n",
       "3                21363.00  \n",
       "4                11668.14  \n",
       "...                   ...  \n",
       "99995             4020.66  \n",
       "99996            18345.49  \n",
       "99997           238699.96  \n",
       "99998           674872.83  \n",
       "99999            20096.56  \n",
       "\n",
       "[100000 rows x 11 columns]"
      ]
     },
     "execution_count": 32,
     "metadata": {},
     "output_type": "execute_result"
    }
   ],
   "source": [
    "## Dropping the unrequired columns \n",
    "df = df.drop(['error_orig','error_dest','newbalanceOrig','newbalanceDest'],axis = 1)\n",
    "df"
   ]
  },
  {
   "cell_type": "code",
   "execution_count": 33,
   "id": "87110efd",
   "metadata": {
    "id": "87110efd"
   },
   "outputs": [],
   "source": [
    "## Converting the Object into Integer\n",
    "\n",
    "df['isFraud']= df['isFraud'].astype('int64')\n",
    "df['step']= df['step'].astype('int64')\n",
    "df['isFlaggedFraud']= df['isFlaggedFraud'].astype('int64')"
   ]
  },
  {
   "cell_type": "code",
   "execution_count": 34,
   "id": "c9314f88",
   "metadata": {
    "colab": {
     "base_uri": "https://localhost:8080/"
    },
    "id": "c9314f88",
    "outputId": "97ec4582-0165-4d08-898d-786b7e07c1d1"
   },
   "outputs": [
    {
     "name": "stdout",
     "output_type": "stream",
     "text": [
      "<class 'pandas.core.frame.DataFrame'>\n",
      "RangeIndex: 100000 entries, 0 to 99999\n",
      "Data columns (total 11 columns):\n",
      " #   Column              Non-Null Count   Dtype  \n",
      "---  ------              --------------   -----  \n",
      " 0   step                100000 non-null  int64  \n",
      " 1   type                100000 non-null  object \n",
      " 2   amount              100000 non-null  float64\n",
      " 3   nameOrig            100000 non-null  object \n",
      " 4   oldbalanceOrg       100000 non-null  float64\n",
      " 5   nameDest            100000 non-null  object \n",
      " 6   oldbalanceDest      100000 non-null  float64\n",
      " 7   isFraud             100000 non-null  int64  \n",
      " 8   isFlaggedFraud      100000 non-null  int64  \n",
      " 9   newbalanceSender    100000 non-null  float64\n",
      " 10  newbalanceReceiver  100000 non-null  float64\n",
      "dtypes: float64(5), int64(3), object(3)\n",
      "memory usage: 8.4+ MB\n"
     ]
    }
   ],
   "source": [
    "df.info()"
   ]
  },
  {
   "cell_type": "code",
   "execution_count": 35,
   "id": "d1fd94b7",
   "metadata": {
    "colab": {
     "base_uri": "https://localhost:8080/",
     "height": 488
    },
    "id": "d1fd94b7",
    "outputId": "572c3201-21ef-4b74-a992-d8a726d255f4"
   },
   "outputs": [
    {
     "data": {
      "text/html": [
       "<div>\n",
       "<style scoped>\n",
       "    .dataframe tbody tr th:only-of-type {\n",
       "        vertical-align: middle;\n",
       "    }\n",
       "\n",
       "    .dataframe tbody tr th {\n",
       "        vertical-align: top;\n",
       "    }\n",
       "\n",
       "    .dataframe thead th {\n",
       "        text-align: right;\n",
       "    }\n",
       "</style>\n",
       "<table border=\"1\" class=\"dataframe\">\n",
       "  <thead>\n",
       "    <tr style=\"text-align: right;\">\n",
       "      <th></th>\n",
       "      <th>step</th>\n",
       "      <th>type</th>\n",
       "      <th>amount</th>\n",
       "      <th>nameOrig</th>\n",
       "      <th>oldbalanceOrg</th>\n",
       "      <th>nameDest</th>\n",
       "      <th>oldbalanceDest</th>\n",
       "      <th>isFraud</th>\n",
       "      <th>isFlaggedFraud</th>\n",
       "      <th>newbalanceOrg</th>\n",
       "      <th>newbalanceDest</th>\n",
       "    </tr>\n",
       "  </thead>\n",
       "  <tbody>\n",
       "    <tr>\n",
       "      <th>0</th>\n",
       "      <td>1</td>\n",
       "      <td>PAYMENT</td>\n",
       "      <td>9839.64</td>\n",
       "      <td>C1231006815</td>\n",
       "      <td>170136.0</td>\n",
       "      <td>M1979787155</td>\n",
       "      <td>0.00</td>\n",
       "      <td>0</td>\n",
       "      <td>0</td>\n",
       "      <td>160296.36</td>\n",
       "      <td>9839.64</td>\n",
       "    </tr>\n",
       "    <tr>\n",
       "      <th>1</th>\n",
       "      <td>1</td>\n",
       "      <td>PAYMENT</td>\n",
       "      <td>1864.28</td>\n",
       "      <td>C1666544295</td>\n",
       "      <td>21249.0</td>\n",
       "      <td>M2044282225</td>\n",
       "      <td>0.00</td>\n",
       "      <td>0</td>\n",
       "      <td>0</td>\n",
       "      <td>19384.72</td>\n",
       "      <td>1864.28</td>\n",
       "    </tr>\n",
       "    <tr>\n",
       "      <th>2</th>\n",
       "      <td>1</td>\n",
       "      <td>TRANSFER</td>\n",
       "      <td>181.00</td>\n",
       "      <td>C1305486145</td>\n",
       "      <td>181.0</td>\n",
       "      <td>C553264065</td>\n",
       "      <td>0.00</td>\n",
       "      <td>1</td>\n",
       "      <td>0</td>\n",
       "      <td>0.00</td>\n",
       "      <td>181.00</td>\n",
       "    </tr>\n",
       "    <tr>\n",
       "      <th>3</th>\n",
       "      <td>1</td>\n",
       "      <td>CASH_OUT</td>\n",
       "      <td>181.00</td>\n",
       "      <td>C840083671</td>\n",
       "      <td>181.0</td>\n",
       "      <td>C38997010</td>\n",
       "      <td>21182.00</td>\n",
       "      <td>1</td>\n",
       "      <td>0</td>\n",
       "      <td>0.00</td>\n",
       "      <td>21363.00</td>\n",
       "    </tr>\n",
       "    <tr>\n",
       "      <th>4</th>\n",
       "      <td>1</td>\n",
       "      <td>PAYMENT</td>\n",
       "      <td>11668.14</td>\n",
       "      <td>C2048537720</td>\n",
       "      <td>41554.0</td>\n",
       "      <td>M1230701703</td>\n",
       "      <td>0.00</td>\n",
       "      <td>0</td>\n",
       "      <td>0</td>\n",
       "      <td>29885.86</td>\n",
       "      <td>11668.14</td>\n",
       "    </tr>\n",
       "    <tr>\n",
       "      <th>...</th>\n",
       "      <td>...</td>\n",
       "      <td>...</td>\n",
       "      <td>...</td>\n",
       "      <td>...</td>\n",
       "      <td>...</td>\n",
       "      <td>...</td>\n",
       "      <td>...</td>\n",
       "      <td>...</td>\n",
       "      <td>...</td>\n",
       "      <td>...</td>\n",
       "      <td>...</td>\n",
       "    </tr>\n",
       "    <tr>\n",
       "      <th>99995</th>\n",
       "      <td>10</td>\n",
       "      <td>PAYMENT</td>\n",
       "      <td>4020.66</td>\n",
       "      <td>C1410794718</td>\n",
       "      <td>20100.0</td>\n",
       "      <td>M1257036576</td>\n",
       "      <td>0.00</td>\n",
       "      <td>0</td>\n",
       "      <td>0</td>\n",
       "      <td>16079.34</td>\n",
       "      <td>4020.66</td>\n",
       "    </tr>\n",
       "    <tr>\n",
       "      <th>99996</th>\n",
       "      <td>10</td>\n",
       "      <td>PAYMENT</td>\n",
       "      <td>18345.49</td>\n",
       "      <td>C744303677</td>\n",
       "      <td>20100.0</td>\n",
       "      <td>M1785344556</td>\n",
       "      <td>0.00</td>\n",
       "      <td>0</td>\n",
       "      <td>0</td>\n",
       "      <td>1754.51</td>\n",
       "      <td>18345.49</td>\n",
       "    </tr>\n",
       "    <tr>\n",
       "      <th>99997</th>\n",
       "      <td>10</td>\n",
       "      <td>CASH_IN</td>\n",
       "      <td>183774.91</td>\n",
       "      <td>C104331851</td>\n",
       "      <td>20100.0</td>\n",
       "      <td>C36392889</td>\n",
       "      <td>54925.05</td>\n",
       "      <td>0</td>\n",
       "      <td>0</td>\n",
       "      <td>0.00</td>\n",
       "      <td>238699.96</td>\n",
       "    </tr>\n",
       "    <tr>\n",
       "      <th>99998</th>\n",
       "      <td>10</td>\n",
       "      <td>CASH_OUT</td>\n",
       "      <td>82237.17</td>\n",
       "      <td>C707662966</td>\n",
       "      <td>20100.0</td>\n",
       "      <td>C1553004158</td>\n",
       "      <td>592635.66</td>\n",
       "      <td>0</td>\n",
       "      <td>0</td>\n",
       "      <td>0.00</td>\n",
       "      <td>674872.83</td>\n",
       "    </tr>\n",
       "    <tr>\n",
       "      <th>99999</th>\n",
       "      <td>10</td>\n",
       "      <td>PAYMENT</td>\n",
       "      <td>20096.56</td>\n",
       "      <td>C1868032458</td>\n",
       "      <td>20100.0</td>\n",
       "      <td>M1419201886</td>\n",
       "      <td>0.00</td>\n",
       "      <td>0</td>\n",
       "      <td>0</td>\n",
       "      <td>3.44</td>\n",
       "      <td>20096.56</td>\n",
       "    </tr>\n",
       "  </tbody>\n",
       "</table>\n",
       "<p>100000 rows × 11 columns</p>\n",
       "</div>"
      ],
      "text/plain": [
       "       step      type     amount     nameOrig  oldbalanceOrg     nameDest  \\\n",
       "0         1   PAYMENT    9839.64  C1231006815       170136.0  M1979787155   \n",
       "1         1   PAYMENT    1864.28  C1666544295        21249.0  M2044282225   \n",
       "2         1  TRANSFER     181.00  C1305486145          181.0   C553264065   \n",
       "3         1  CASH_OUT     181.00   C840083671          181.0    C38997010   \n",
       "4         1   PAYMENT   11668.14  C2048537720        41554.0  M1230701703   \n",
       "...     ...       ...        ...          ...            ...          ...   \n",
       "99995    10   PAYMENT    4020.66  C1410794718        20100.0  M1257036576   \n",
       "99996    10   PAYMENT   18345.49   C744303677        20100.0  M1785344556   \n",
       "99997    10   CASH_IN  183774.91   C104331851        20100.0    C36392889   \n",
       "99998    10  CASH_OUT   82237.17   C707662966        20100.0  C1553004158   \n",
       "99999    10   PAYMENT   20096.56  C1868032458        20100.0  M1419201886   \n",
       "\n",
       "       oldbalanceDest  isFraud  isFlaggedFraud  newbalanceOrg  newbalanceDest  \n",
       "0                0.00        0               0      160296.36         9839.64  \n",
       "1                0.00        0               0       19384.72         1864.28  \n",
       "2                0.00        1               0           0.00          181.00  \n",
       "3            21182.00        1               0           0.00        21363.00  \n",
       "4                0.00        0               0       29885.86        11668.14  \n",
       "...               ...      ...             ...            ...             ...  \n",
       "99995            0.00        0               0       16079.34         4020.66  \n",
       "99996            0.00        0               0        1754.51        18345.49  \n",
       "99997        54925.05        0               0           0.00       238699.96  \n",
       "99998       592635.66        0               0           0.00       674872.83  \n",
       "99999            0.00        0               0           3.44        20096.56  \n",
       "\n",
       "[100000 rows x 11 columns]"
      ]
     },
     "execution_count": 35,
     "metadata": {},
     "output_type": "execute_result"
    }
   ],
   "source": [
    "## Renaming the column names as mentioned\n",
    "\n",
    "df = df.rename(columns={'newbalanceSender': 'newbalanceOrg', 'newbalanceReceiver': 'newbalanceDest'})\n",
    "df"
   ]
  },
  {
   "cell_type": "code",
   "execution_count": 36,
   "id": "347d1d93",
   "metadata": {
    "colab": {
     "base_uri": "https://localhost:8080/"
    },
    "id": "347d1d93",
    "outputId": "77c43707-76b3-409f-d438-d40bcc8ad2c7"
   },
   "outputs": [
    {
     "name": "stdout",
     "output_type": "stream",
     "text": [
      "Rearranged DataFrame:\n"
     ]
    },
    {
     "data": {
      "text/plain": [
       "Index(['step', 'type', 'amount', 'oldbalanceOrg', 'newbalanceOrg',\n",
       "       'oldbalanceDest', 'newbalanceDest', 'isFraud', 'isFlaggedFraud'],\n",
       "      dtype='object')"
      ]
     },
     "execution_count": 36,
     "metadata": {},
     "output_type": "execute_result"
    }
   ],
   "source": [
    "# Rearranging the columns\n",
    "\n",
    "df = df[['step','type','amount','oldbalanceOrg','newbalanceOrg','oldbalanceDest','newbalanceDest','isFraud','isFlaggedFraud']]\n",
    "\n",
    "# print the rearranged DataFrame\n",
    "\n",
    "print('Rearranged DataFrame:')\n",
    "df.columns"
   ]
  },
  {
   "cell_type": "markdown",
   "id": "d24e6654",
   "metadata": {
    "id": "d24e6654"
   },
   "source": [
    "### First Business Moment Decision"
   ]
  },
  {
   "cell_type": "code",
   "execution_count": 37,
   "id": "a92ad069",
   "metadata": {
    "colab": {
     "base_uri": "https://localhost:8080/"
    },
    "id": "a92ad069",
    "outputId": "94ea7cb7-9439-43e9-97d2-5b105e96cb4a"
   },
   "outputs": [
    {
     "data": {
      "text/plain": [
       "173602.22176409996"
      ]
     },
     "execution_count": 37,
     "metadata": {},
     "output_type": "execute_result"
    }
   ],
   "source": [
    "## Calculates the Mean (average) of the values in the 'amount' column\n",
    "df['amount'].mean()"
   ]
  },
  {
   "cell_type": "code",
   "execution_count": 38,
   "id": "353ebc71",
   "metadata": {
    "colab": {
     "base_uri": "https://localhost:8080/"
    },
    "id": "353ebc71",
    "outputId": "4cb3734d-3d41-478e-f85e-981964ba6dee"
   },
   "outputs": [
    {
     "data": {
      "text/plain": [
       "52745.520000000004"
      ]
     },
     "execution_count": 38,
     "metadata": {},
     "output_type": "execute_result"
    }
   ],
   "source": [
    "## Calculates the Median value of the 'amount' column\n",
    "\n",
    "df['amount'].median()"
   ]
  },
  {
   "cell_type": "code",
   "execution_count": 39,
   "id": "c74f5399",
   "metadata": {
    "colab": {
     "base_uri": "https://localhost:8080/"
    },
    "id": "c74f5399",
    "outputId": "3c22c892-abfe-479f-b093-1e7669b3eb19"
   },
   "outputs": [
    {
     "data": {
      "text/plain": [
       "0     2475.13\n",
       "1     6285.19\n",
       "2    17320.91\n",
       "3    25975.86\n",
       "4    29707.86\n",
       "5    89631.24\n",
       "Name: amount, dtype: float64"
      ]
     },
     "execution_count": 39,
     "metadata": {},
     "output_type": "execute_result"
    }
   ],
   "source": [
    "## Calculates the Mode value of the 'amount' column\n",
    "\n",
    "df['amount'].mode()"
   ]
  },
  {
   "cell_type": "markdown",
   "id": "db678fbe",
   "metadata": {
    "id": "db678fbe"
   },
   "source": [
    "### Second Business Moment Decision"
   ]
  },
  {
   "cell_type": "code",
   "execution_count": 40,
   "id": "78870981",
   "metadata": {
    "colab": {
     "base_uri": "https://localhost:8080/"
    },
    "id": "78870981",
    "outputId": "6ca36833-a205-44d2-a91c-e29d8ac0892a"
   },
   "outputs": [
    {
     "data": {
      "text/plain": [
       "118542710414.3486"
      ]
     },
     "execution_count": 40,
     "metadata": {},
     "output_type": "execute_result"
    }
   ],
   "source": [
    "## Checking the Variance in 'amount' columns.\n",
    "df['amount'].var()"
   ]
  },
  {
   "cell_type": "code",
   "execution_count": 41,
   "id": "2ee848bf",
   "metadata": {
    "colab": {
     "base_uri": "https://localhost:8080/"
    },
    "id": "2ee848bf",
    "outputId": "ebe7f833-2deb-439a-837a-2e244cc42796"
   },
   "outputs": [
    {
     "data": {
      "text/plain": [
       "344300.3200903952"
      ]
     },
     "execution_count": 41,
     "metadata": {},
     "output_type": "execute_result"
    }
   ],
   "source": [
    "## Calculates the standard deviation of the values in the 'amount' column\n",
    "df['amount'].std()"
   ]
  },
  {
   "cell_type": "markdown",
   "id": "ee318144",
   "metadata": {
    "id": "ee318144"
   },
   "source": [
    "### Third Business Moment Decision"
   ]
  },
  {
   "cell_type": "code",
   "execution_count": 42,
   "id": "c04a4bf4",
   "metadata": {
    "colab": {
     "base_uri": "https://localhost:8080/"
    },
    "id": "c04a4bf4",
    "outputId": "711eec5f-4746-46f1-eac2-bbffa16ad032"
   },
   "outputs": [
    {
     "data": {
      "text/plain": [
       "step               -2.543341\n",
       "amount              5.428317\n",
       "oldbalanceOrg       4.958011\n",
       "newbalanceOrg       5.044601\n",
       "oldbalanceDest      5.058239\n",
       "newbalanceDest      4.766104\n",
       "isFraud            15.426444\n",
       "isFlaggedFraud    316.227766\n",
       "dtype: float64"
      ]
     },
     "execution_count": 42,
     "metadata": {},
     "output_type": "execute_result"
    }
   ],
   "source": [
    "## Calculating the Skewness of each column in dataset.\n",
    "df.skew()"
   ]
  },
  {
   "cell_type": "markdown",
   "id": "bfbf4ef2",
   "metadata": {
    "id": "bfbf4ef2"
   },
   "source": [
    "### Fourth Business Moment Decision"
   ]
  },
  {
   "cell_type": "code",
   "execution_count": 43,
   "id": "dc59469b",
   "metadata": {
    "colab": {
     "base_uri": "https://localhost:8080/"
    },
    "id": "dc59469b",
    "outputId": "b1acb30c-4027-49b9-a177-adca09101db9"
   },
   "outputs": [
    {
     "data": {
      "text/plain": [
       "step                   7.313596\n",
       "amount                48.099033\n",
       "oldbalanceOrg         31.579922\n",
       "newbalanceOrg         32.616930\n",
       "oldbalanceDest        32.493201\n",
       "newbalanceDest        29.197520\n",
       "isFraud              235.979882\n",
       "isFlaggedFraud    100000.000000\n",
       "dtype: float64"
      ]
     },
     "execution_count": 43,
     "metadata": {},
     "output_type": "execute_result"
    }
   ],
   "source": [
    "## Calculating the Kurtosis of each column in dataset.\n",
    "df.kurt()"
   ]
  },
  {
   "cell_type": "code",
   "execution_count": 44,
   "id": "949146d3",
   "metadata": {
    "colab": {
     "base_uri": "https://localhost:8080/",
     "height": 294
    },
    "id": "949146d3",
    "outputId": "2822e538-a7f7-41e1-fef6-4199aa244664"
   },
   "outputs": [
    {
     "data": {
      "text/plain": [
       "<Axes: >"
      ]
     },
     "execution_count": 44,
     "metadata": {},
     "output_type": "execute_result"
    },
    {
     "data": {
      "image/png": "[encoded data removed]",
      "text/plain": [
       "<Figure size 640x480 with 1 Axes>"
      ]
     },
     "metadata": {},
     "output_type": "display_data"
    }
   ],
   "source": [
    "# Creating box plot to check outliers\n",
    "\n",
    "df[['amount','oldbalanceOrg','newbalanceOrg','oldbalanceDest','newbalanceDest']].plot(kind='box')"
   ]
  },
  {
   "cell_type": "markdown",
   "id": "526e1420",
   "metadata": {},
   "source": [
    "### Loops through a list of selected columns in a pandas DataFrame and calculates the percentage of outliers in each column."
   ]
  },
  {
   "cell_type": "code",
   "execution_count": 45,
   "id": "11b5f733",
   "metadata": {
    "colab": {
     "base_uri": "https://localhost:8080/"
    },
    "id": "11b5f733",
    "outputId": "5ec3ee19-ce52-4666-df92-930d051ce46f"
   },
   "outputs": [
    {
     "name": "stdout",
     "output_type": "stream",
     "text": [
      "Column: amount\n",
      "Percentage of outliers: 6.4\n",
      "Column: oldbalanceOrg\n",
      "Percentage of outliers: 18.337999999999997\n",
      "Column: newbalanceOrg\n",
      "Percentage of outliers: 20.047\n",
      "Column: oldbalanceDest\n",
      "Percentage of outliers: 14.173\n",
      "Column: newbalanceDest\n",
      "Percentage of outliers: 11.919\n"
     ]
    }
   ],
   "source": [
    "# Define the columns you want to loop through\n",
    "columns_to_loop = ['amount','oldbalanceOrg','newbalanceOrg','oldbalanceDest','newbalanceDest',]\n",
    "\n",
    "# Loop through the selected columns and calculate the percentage of outliers\n",
    "for column in columns_to_loop:\n",
    "    data_column = df[column].values\n",
    "\n",
    "    # Define the lower and upper bounds of the range of non-outliers\n",
    "    q1, q3 = np.percentile(data_column, [25, 75])\n",
    "    iqr = q3 - q1\n",
    "    lower_bound = q1 - 1.5 * iqr\n",
    "    upper_bound = q3 + 1.5 * iqr\n",
    "\n",
    "    # Calculate the number of outliers\n",
    "    outliers = data_column[(data_column < lower_bound) | (data_column > upper_bound)]\n",
    "    num_outliers = len(outliers)\n",
    "\n",
    "    # Calculate the percentage of outliers\n",
    "    percent_outliers = (num_outliers / len(data_column)) * 100\n",
    "\n",
    "    print(\"Column:\", column)\n",
    "    print(\"Percentage of outliers:\", percent_outliers)"
   ]
  },
  {
   "cell_type": "markdown",
   "id": "b9d36504",
   "metadata": {
    "id": "b9d36504"
   },
   "source": [
    "### Creating the correlation matrix & Heatmap of matrix which shows the correlation values between the different features with positive correlations shown in warm colors (reds) and negative correlations shown in cool colors (blues). The darker the color, the stronger the correlation between two features.\n",
    "\n",
    "### Can understand the relationships between different variables in the dataset "
   ]
  },
  {
   "cell_type": "code",
   "execution_count": 46,
   "id": "feb4b551",
   "metadata": {
    "colab": {
     "base_uri": "https://localhost:8080/",
     "height": 368
    },
    "id": "feb4b551",
    "outputId": "b300608d-7bec-459b-af1e-1fab078fe64e"
   },
   "outputs": [
    {
     "data": {
      "image/png": "[encoded data removed]",
      "text/plain": [
       "<Figure size 640x480 with 2 Axes>"
      ]
     },
     "metadata": {},
     "output_type": "display_data"
    }
   ],
   "source": [
    "# Compute the correlation matrix\n",
    "corr_matrix = df.corr()\n",
    "\n",
    "# Create a heatmap using Seaborn\n",
    "sns.heatmap(corr_matrix, cmap='coolwarm')\n",
    "\n",
    "# Add title and axis labels\n",
    "plt.title('Correlation Matrix')\n",
    "plt.xlabel('Features')\n",
    "plt.ylabel('Features')\n",
    "\n",
    "# Show the plot\n",
    "plt.show()"
   ]
  },
  {
   "cell_type": "markdown",
   "id": "9d6f84b2",
   "metadata": {
    "id": "9d6f84b2"
   },
   "source": [
    "## Data Visualization\n",
    "### Count Plots"
   ]
  },
  {
   "cell_type": "code",
   "execution_count": 47,
   "id": "89614e13",
   "metadata": {
    "colab": {
     "base_uri": "https://localhost:8080/",
     "height": 585
    },
    "id": "89614e13",
    "outputId": "5f6a491e-f459-4611-9098-70255e71bc02"
   },
   "outputs": [
    {
     "data": {
      "image/png": "[encoded data removed]",
      "text/plain": [
       "<Figure size 640x480 with 1 Axes>"
      ]
     },
     "metadata": {},
     "output_type": "display_data"
    },
    {
     "data": {
      "image/png": "[encoded data removed]",
      "text/plain": [
       "<Figure size 640x480 with 1 Axes>"
      ]
     },
     "metadata": {},
     "output_type": "display_data"
    }
   ],
   "source": [
    "features_category = ['type','isFraud']\n",
    "for feature in features_category:\n",
    "  sns.countplot(data=df, x=feature, palette='deep')\n",
    "  plt.xticks(rotation=65)\n",
    "  plt.show()"
   ]
  },
  {
   "cell_type": "code",
   "execution_count": 48,
   "id": "6148a981",
   "metadata": {
    "colab": {
     "base_uri": "https://localhost:8080/",
     "height": 1000
    },
    "id": "6148a981",
    "outputId": "bfe39d23-d979-441f-ba29-5c5cd82f6331"
   },
   "outputs": [
    {
     "data": {
      "image/png": "[encoded data removed]",
      "text/plain": [
       "<Figure size 640x480 with 1 Axes>"
      ]
     },
     "metadata": {},
     "output_type": "display_data"
    },
    {
     "data": {
      "image/png": "[encoded data removed]",
      "text/plain": [
       "<Figure size 640x480 with 1 Axes>"
      ]
     },
     "metadata": {},
     "output_type": "display_data"
    },
    {
     "data": {
      "image/png": "[encoded data removed]",
      "text/plain": [
       "<Figure size 640x480 with 1 Axes>"
      ]
     },
     "metadata": {},
     "output_type": "display_data"
    },
    {
     "data": {
      "image/png": "[encoded data removed]",
      "text/plain": [
       "<Figure size 640x480 with 1 Axes>"
      ]
     },
     "metadata": {},
     "output_type": "display_data"
    },
    {
     "data": {
      "image/png": "[encoded data removed]",
      "text/plain": [
       "<Figure size 640x480 with 1 Axes>"
      ]
     },
     "metadata": {},
     "output_type": "display_data"
    }
   ],
   "source": [
    "## Select columns for which histograms to be created\n",
    "\n",
    "cols = ['amount','oldbalanceOrg','newbalanceOrg','oldbalanceDest','newbalanceDest']\n",
    "\n",
    "#for loop to create histograms \n",
    "for col in cols:      #iterate over the columns in the dataset \n",
    "    df[col].hist()   #create a histogram of the current column \n",
    "    plt.title(col)   #set title as the current column \n",
    "    plt.show()"
   ]
  },
  {
   "cell_type": "markdown",
   "id": "218a8c19",
   "metadata": {
    "id": "218a8c19"
   },
   "source": [
    "### Count plot using seaborn library, Plot displays the frequency distribution. The absolute count values of each corresponding bar in the plot. "
   ]
  },
  {
   "cell_type": "code",
   "execution_count": 49,
   "id": "ed6b8f6b",
   "metadata": {
    "colab": {
     "base_uri": "https://localhost:8080/",
     "height": 369
    },
    "id": "ed6b8f6b",
    "outputId": "eff8b974-4795-41bd-eb76-eb229464cc0c"
   },
   "outputs": [
    {
     "data": {
      "text/plain": [
       "[Text(0, 0, '39512'),\n",
       " Text(0, 0, '30718'),\n",
       " Text(0, 0, '20185'),\n",
       " Text(0, 0, '8597'),\n",
       " Text(0, 0, '988')]"
      ]
     },
     "execution_count": 49,
     "metadata": {},
     "output_type": "execute_result"
    },
    {
     "data": {
      "image/png": "[encoded data removed]",
      "text/plain": [
       "<Figure size 640x480 with 1 Axes>"
      ]
     },
     "metadata": {},
     "output_type": "display_data"
    }
   ],
   "source": [
    "ax = sns.countplot(x = df['type'],\n",
    "                   order = df['type'].value_counts (ascending=False).index);\n",
    "abs_values = df['type'].value_counts (ascending = False).values \n",
    "                          \n",
    "ax.bar_label (container=ax.containers[0], labels=abs_values)"
   ]
  },
  {
   "cell_type": "markdown",
   "id": "46095570",
   "metadata": {
    "id": "46095570"
   },
   "source": [
    "### Converting the Step which is in Hours to be converted into Time Format which will help in differentiating"
   ]
  },
  {
   "cell_type": "code",
   "execution_count": 50,
   "id": "4438af74",
   "metadata": {
    "colab": {
     "base_uri": "https://localhost:8080/"
    },
    "id": "4438af74",
    "outputId": "0fe54113-a731-4e07-ae5a-ab7b2f0b8ae8"
   },
   "outputs": [
    {
     "data": {
      "text/plain": [
       "24656   2022-01-01 08:00:00\n",
       "39336   2022-01-01 09:00:00\n",
       "31175   2022-01-01 08:00:00\n",
       "17049   2022-01-01 08:00:00\n",
       "91601   2022-01-01 10:00:00\n",
       "30742   2022-01-01 08:00:00\n",
       "18138   2022-01-01 08:00:00\n",
       "43409   2022-01-01 09:00:00\n",
       "23895   2022-01-01 08:00:00\n",
       "80982   2022-01-01 10:00:00\n",
       "Name: step, dtype: datetime64[ns]"
      ]
     },
     "execution_count": 50,
     "metadata": {},
     "output_type": "execute_result"
    }
   ],
   "source": [
    "## Converting step into time\n",
    "df['step'] = pd.to_datetime(\"01/01/2022\") + pd.to_timedelta(df['step'], unit='h')\n",
    "df['step'].sample(10)"
   ]
  },
  {
   "cell_type": "markdown",
   "id": "3a3d286b",
   "metadata": {
    "id": "3a3d286b"
   },
   "source": [
    "### Converting & Creating new column by converting time into Night, Morning, Afternoon, Evening, by converting Step into Hours Basis"
   ]
  },
  {
   "cell_type": "code",
   "execution_count": 51,
   "id": "8df7fc62",
   "metadata": {
    "colab": {
     "base_uri": "https://localhost:8080/"
    },
    "id": "8df7fc62",
    "outputId": "1ea2dd5f-70fd-41f0-ed5c-0074f12f5cbd"
   },
   "outputs": [
    {
     "name": "stdout",
     "output_type": "stream",
     "text": [
      "<class 'pandas.core.frame.DataFrame'>\n",
      "RangeIndex: 100000 entries, 0 to 99999\n",
      "Data columns (total 9 columns):\n",
      " #   Column          Non-Null Count   Dtype   \n",
      "---  ------          --------------   -----   \n",
      " 0   step            100000 non-null  category\n",
      " 1   type            100000 non-null  object  \n",
      " 2   amount          100000 non-null  float64 \n",
      " 3   oldbalanceOrg   100000 non-null  float64 \n",
      " 4   newbalanceOrg   100000 non-null  float64 \n",
      " 5   oldbalanceDest  100000 non-null  float64 \n",
      " 6   newbalanceDest  100000 non-null  float64 \n",
      " 7   isFraud         100000 non-null  int64   \n",
      " 8   isFlaggedFraud  100000 non-null  int64   \n",
      "dtypes: category(1), float64(5), int64(2), object(1)\n",
      "memory usage: 6.2+ MB\n"
     ]
    }
   ],
   "source": [
    "# create new column to get morning, afternoon, evening, or night\n",
    "df['step'] = pd.cut(df['step'].dt.hour,\n",
    "                        bins=[0, 6, 12, 18, 24], \n",
    "                        labels = ['night','morning','afternoon','evening'],\n",
    "                        include_lowest = True)\n",
    "df.info()"
   ]
  },
  {
   "cell_type": "markdown",
   "id": "d5af36d9",
   "metadata": {
    "id": "d5af36d9"
   },
   "source": [
    "### Creating a Pie Chart for categorical variable 'Step'. "
   ]
  },
  {
   "cell_type": "code",
   "execution_count": 52,
   "id": "f128c1a7",
   "metadata": {
    "colab": {
     "base_uri": "https://localhost:8080/",
     "height": 264
    },
    "id": "f128c1a7",
    "outputId": "12781b4f-d0a1-486d-c381-e256fd40d376"
   },
   "outputs": [
    {
     "data": {
      "image/png": "[encoded data removed]",
      "text/plain": [
       "<Figure size 640x480 with 1 Axes>"
      ]
     },
     "metadata": {},
     "output_type": "display_data"
    }
   ],
   "source": [
    "features_object = ['step']\n",
    "for column_name in features_object:\n",
    "    column_data = df[column_name]\n",
    "    value_counts = column_data.value_counts()\n",
    "    plt.pie(value_counts.values, labels=value_counts.index, autopct='%1.1f%%')\n",
    "    plt.title(f'Pie Chart of {column_name}')\n",
    "    plt.show()"
   ]
  },
  {
   "cell_type": "code",
   "execution_count": 53,
   "id": "ebfd2821",
   "metadata": {
    "colab": {
     "base_uri": "https://localhost:8080/"
    },
    "id": "ebfd2821",
    "outputId": "940de4bf-6a81-47c0-d454-6c5fe8983c77"
   },
   "outputs": [
    {
     "name": "stdout",
     "output_type": "stream",
     "text": [
      "<class 'pandas.core.frame.DataFrame'>\n",
      "RangeIndex: 100000 entries, 0 to 99999\n",
      "Data columns (total 9 columns):\n",
      " #   Column          Non-Null Count   Dtype   \n",
      "---  ------          --------------   -----   \n",
      " 0   step            100000 non-null  category\n",
      " 1   type            100000 non-null  object  \n",
      " 2   amount          100000 non-null  float64 \n",
      " 3   oldbalanceOrg   100000 non-null  float64 \n",
      " 4   newbalanceOrg   100000 non-null  float64 \n",
      " 5   oldbalanceDest  100000 non-null  float64 \n",
      " 6   newbalanceDest  100000 non-null  float64 \n",
      " 7   isFraud         100000 non-null  int64   \n",
      " 8   isFlaggedFraud  100000 non-null  int64   \n",
      "dtypes: category(1), float64(5), int64(2), object(1)\n",
      "memory usage: 6.2+ MB\n"
     ]
    }
   ],
   "source": [
    "df.info()"
   ]
  },
  {
   "cell_type": "code",
   "execution_count": 54,
   "id": "6a8670f9",
   "metadata": {
    "colab": {
     "base_uri": "https://localhost:8080/",
     "height": 424
    },
    "id": "6a8670f9",
    "outputId": "995fc12a-712c-4fdf-cb97-62b584ff009a"
   },
   "outputs": [
    {
     "data": {
      "text/html": [
       "<div>\n",
       "<style scoped>\n",
       "    .dataframe tbody tr th:only-of-type {\n",
       "        vertical-align: middle;\n",
       "    }\n",
       "\n",
       "    .dataframe tbody tr th {\n",
       "        vertical-align: top;\n",
       "    }\n",
       "\n",
       "    .dataframe thead th {\n",
       "        text-align: right;\n",
       "    }\n",
       "</style>\n",
       "<table border=\"1\" class=\"dataframe\">\n",
       "  <thead>\n",
       "    <tr style=\"text-align: right;\">\n",
       "      <th></th>\n",
       "      <th>step</th>\n",
       "      <th>type</th>\n",
       "      <th>amount</th>\n",
       "      <th>oldbalanceOrg</th>\n",
       "      <th>newbalanceOrg</th>\n",
       "      <th>oldbalanceDest</th>\n",
       "      <th>newbalanceDest</th>\n",
       "      <th>isFraud</th>\n",
       "    </tr>\n",
       "  </thead>\n",
       "  <tbody>\n",
       "    <tr>\n",
       "      <th>0</th>\n",
       "      <td>night</td>\n",
       "      <td>PAYMENT</td>\n",
       "      <td>9839.64</td>\n",
       "      <td>170136.0</td>\n",
       "      <td>160296.36</td>\n",
       "      <td>0.00</td>\n",
       "      <td>9839.64</td>\n",
       "      <td>0</td>\n",
       "    </tr>\n",
       "    <tr>\n",
       "      <th>1</th>\n",
       "      <td>night</td>\n",
       "      <td>PAYMENT</td>\n",
       "      <td>1864.28</td>\n",
       "      <td>21249.0</td>\n",
       "      <td>19384.72</td>\n",
       "      <td>0.00</td>\n",
       "      <td>1864.28</td>\n",
       "      <td>0</td>\n",
       "    </tr>\n",
       "    <tr>\n",
       "      <th>2</th>\n",
       "      <td>night</td>\n",
       "      <td>TRANSFER</td>\n",
       "      <td>181.00</td>\n",
       "      <td>181.0</td>\n",
       "      <td>0.00</td>\n",
       "      <td>0.00</td>\n",
       "      <td>181.00</td>\n",
       "      <td>1</td>\n",
       "    </tr>\n",
       "    <tr>\n",
       "      <th>3</th>\n",
       "      <td>night</td>\n",
       "      <td>CASH_OUT</td>\n",
       "      <td>181.00</td>\n",
       "      <td>181.0</td>\n",
       "      <td>0.00</td>\n",
       "      <td>21182.00</td>\n",
       "      <td>21363.00</td>\n",
       "      <td>1</td>\n",
       "    </tr>\n",
       "    <tr>\n",
       "      <th>4</th>\n",
       "      <td>night</td>\n",
       "      <td>PAYMENT</td>\n",
       "      <td>11668.14</td>\n",
       "      <td>41554.0</td>\n",
       "      <td>29885.86</td>\n",
       "      <td>0.00</td>\n",
       "      <td>11668.14</td>\n",
       "      <td>0</td>\n",
       "    </tr>\n",
       "    <tr>\n",
       "      <th>...</th>\n",
       "      <td>...</td>\n",
       "      <td>...</td>\n",
       "      <td>...</td>\n",
       "      <td>...</td>\n",
       "      <td>...</td>\n",
       "      <td>...</td>\n",
       "      <td>...</td>\n",
       "      <td>...</td>\n",
       "    </tr>\n",
       "    <tr>\n",
       "      <th>99995</th>\n",
       "      <td>morning</td>\n",
       "      <td>PAYMENT</td>\n",
       "      <td>4020.66</td>\n",
       "      <td>20100.0</td>\n",
       "      <td>16079.34</td>\n",
       "      <td>0.00</td>\n",
       "      <td>4020.66</td>\n",
       "      <td>0</td>\n",
       "    </tr>\n",
       "    <tr>\n",
       "      <th>99996</th>\n",
       "      <td>morning</td>\n",
       "      <td>PAYMENT</td>\n",
       "      <td>18345.49</td>\n",
       "      <td>20100.0</td>\n",
       "      <td>1754.51</td>\n",
       "      <td>0.00</td>\n",
       "      <td>18345.49</td>\n",
       "      <td>0</td>\n",
       "    </tr>\n",
       "    <tr>\n",
       "      <th>99997</th>\n",
       "      <td>morning</td>\n",
       "      <td>CASH_IN</td>\n",
       "      <td>183774.91</td>\n",
       "      <td>20100.0</td>\n",
       "      <td>0.00</td>\n",
       "      <td>54925.05</td>\n",
       "      <td>238699.96</td>\n",
       "      <td>0</td>\n",
       "    </tr>\n",
       "    <tr>\n",
       "      <th>99998</th>\n",
       "      <td>morning</td>\n",
       "      <td>CASH_OUT</td>\n",
       "      <td>82237.17</td>\n",
       "      <td>20100.0</td>\n",
       "      <td>0.00</td>\n",
       "      <td>592635.66</td>\n",
       "      <td>674872.83</td>\n",
       "      <td>0</td>\n",
       "    </tr>\n",
       "    <tr>\n",
       "      <th>99999</th>\n",
       "      <td>morning</td>\n",
       "      <td>PAYMENT</td>\n",
       "      <td>20096.56</td>\n",
       "      <td>20100.0</td>\n",
       "      <td>3.44</td>\n",
       "      <td>0.00</td>\n",
       "      <td>20096.56</td>\n",
       "      <td>0</td>\n",
       "    </tr>\n",
       "  </tbody>\n",
       "</table>\n",
       "<p>100000 rows × 8 columns</p>\n",
       "</div>"
      ],
      "text/plain": [
       "          step      type     amount  oldbalanceOrg  newbalanceOrg  \\\n",
       "0        night   PAYMENT    9839.64       170136.0      160296.36   \n",
       "1        night   PAYMENT    1864.28        21249.0       19384.72   \n",
       "2        night  TRANSFER     181.00          181.0           0.00   \n",
       "3        night  CASH_OUT     181.00          181.0           0.00   \n",
       "4        night   PAYMENT   11668.14        41554.0       29885.86   \n",
       "...        ...       ...        ...            ...            ...   \n",
       "99995  morning   PAYMENT    4020.66        20100.0       16079.34   \n",
       "99996  morning   PAYMENT   18345.49        20100.0        1754.51   \n",
       "99997  morning   CASH_IN  183774.91        20100.0           0.00   \n",
       "99998  morning  CASH_OUT   82237.17        20100.0           0.00   \n",
       "99999  morning   PAYMENT   20096.56        20100.0           3.44   \n",
       "\n",
       "       oldbalanceDest  newbalanceDest  isFraud  \n",
       "0                0.00         9839.64        0  \n",
       "1                0.00         1864.28        0  \n",
       "2                0.00          181.00        1  \n",
       "3            21182.00        21363.00        1  \n",
       "4                0.00        11668.14        0  \n",
       "...               ...             ...      ...  \n",
       "99995            0.00         4020.66        0  \n",
       "99996            0.00        18345.49        0  \n",
       "99997        54925.05       238699.96        0  \n",
       "99998       592635.66       674872.83        0  \n",
       "99999            0.00        20096.56        0  \n",
       "\n",
       "[100000 rows x 8 columns]"
      ]
     },
     "execution_count": 54,
     "metadata": {},
     "output_type": "execute_result"
    }
   ],
   "source": [
    "df = df.drop(['isFlaggedFraud'],axis=1)\n",
    "df"
   ]
  },
  {
   "cell_type": "code",
   "execution_count": 55,
   "id": "1c3bd193",
   "metadata": {},
   "outputs": [
    {
     "data": {
      "text/plain": [
       "PAYMENT     39512\n",
       "CASH_OUT    30718\n",
       "CASH_IN     20185\n",
       "TRANSFER     8597\n",
       "DEBIT         988\n",
       "Name: type, dtype: int64"
      ]
     },
     "execution_count": 55,
     "metadata": {},
     "output_type": "execute_result"
    }
   ],
   "source": [
    "df[\"type\"].value_counts()"
   ]
  },
  {
   "cell_type": "code",
   "execution_count": 56,
   "id": "a5ce8ff4",
   "metadata": {
    "colab": {
     "base_uri": "https://localhost:8080/"
    },
    "id": "a5ce8ff4",
    "outputId": "6273217e-20f6-4a98-ed57-ac0c2c8f377d"
   },
   "outputs": [
    {
     "name": "stdout",
     "output_type": "stream",
     "text": [
      "<class 'pandas.core.frame.DataFrame'>\n",
      "RangeIndex: 100000 entries, 0 to 99999\n",
      "Data columns (total 8 columns):\n",
      " #   Column          Non-Null Count   Dtype   \n",
      "---  ------          --------------   -----   \n",
      " 0   step            100000 non-null  category\n",
      " 1   type            100000 non-null  object  \n",
      " 2   amount          100000 non-null  float64 \n",
      " 3   oldbalanceOrg   100000 non-null  float64 \n",
      " 4   newbalanceOrg   100000 non-null  float64 \n",
      " 5   oldbalanceDest  100000 non-null  float64 \n",
      " 6   newbalanceDest  100000 non-null  float64 \n",
      " 7   isFraud         100000 non-null  int64   \n",
      "dtypes: category(1), float64(5), int64(1), object(1)\n",
      "memory usage: 5.4+ MB\n"
     ]
    }
   ],
   "source": [
    "df.info()"
   ]
  },
  {
   "cell_type": "code",
   "execution_count": 57,
   "id": "608029f0",
   "metadata": {
    "colab": {
     "base_uri": "https://localhost:8080/",
     "height": 424
    },
    "id": "608029f0",
    "outputId": "a85e98ad-7691-43a4-ac66-78e130a850cd"
   },
   "outputs": [
    {
     "data": {
      "text/html": [
       "<div>\n",
       "<style scoped>\n",
       "    .dataframe tbody tr th:only-of-type {\n",
       "        vertical-align: middle;\n",
       "    }\n",
       "\n",
       "    .dataframe tbody tr th {\n",
       "        vertical-align: top;\n",
       "    }\n",
       "\n",
       "    .dataframe thead th {\n",
       "        text-align: right;\n",
       "    }\n",
       "</style>\n",
       "<table border=\"1\" class=\"dataframe\">\n",
       "  <thead>\n",
       "    <tr style=\"text-align: right;\">\n",
       "      <th></th>\n",
       "      <th>type</th>\n",
       "      <th>amount</th>\n",
       "      <th>oldbalanceOrg</th>\n",
       "      <th>newbalanceOrg</th>\n",
       "      <th>oldbalanceDest</th>\n",
       "      <th>newbalanceDest</th>\n",
       "      <th>isFraud</th>\n",
       "    </tr>\n",
       "  </thead>\n",
       "  <tbody>\n",
       "    <tr>\n",
       "      <th>0</th>\n",
       "      <td>PAYMENT</td>\n",
       "      <td>9839.64</td>\n",
       "      <td>170136.0</td>\n",
       "      <td>160296.36</td>\n",
       "      <td>0.00</td>\n",
       "      <td>9839.64</td>\n",
       "      <td>0</td>\n",
       "    </tr>\n",
       "    <tr>\n",
       "      <th>1</th>\n",
       "      <td>PAYMENT</td>\n",
       "      <td>1864.28</td>\n",
       "      <td>21249.0</td>\n",
       "      <td>19384.72</td>\n",
       "      <td>0.00</td>\n",
       "      <td>1864.28</td>\n",
       "      <td>0</td>\n",
       "    </tr>\n",
       "    <tr>\n",
       "      <th>2</th>\n",
       "      <td>TRANSFER</td>\n",
       "      <td>181.00</td>\n",
       "      <td>181.0</td>\n",
       "      <td>0.00</td>\n",
       "      <td>0.00</td>\n",
       "      <td>181.00</td>\n",
       "      <td>1</td>\n",
       "    </tr>\n",
       "    <tr>\n",
       "      <th>3</th>\n",
       "      <td>CASH_OUT</td>\n",
       "      <td>181.00</td>\n",
       "      <td>181.0</td>\n",
       "      <td>0.00</td>\n",
       "      <td>21182.00</td>\n",
       "      <td>21363.00</td>\n",
       "      <td>1</td>\n",
       "    </tr>\n",
       "    <tr>\n",
       "      <th>4</th>\n",
       "      <td>PAYMENT</td>\n",
       "      <td>11668.14</td>\n",
       "      <td>41554.0</td>\n",
       "      <td>29885.86</td>\n",
       "      <td>0.00</td>\n",
       "      <td>11668.14</td>\n",
       "      <td>0</td>\n",
       "    </tr>\n",
       "    <tr>\n",
       "      <th>...</th>\n",
       "      <td>...</td>\n",
       "      <td>...</td>\n",
       "      <td>...</td>\n",
       "      <td>...</td>\n",
       "      <td>...</td>\n",
       "      <td>...</td>\n",
       "      <td>...</td>\n",
       "    </tr>\n",
       "    <tr>\n",
       "      <th>99995</th>\n",
       "      <td>PAYMENT</td>\n",
       "      <td>4020.66</td>\n",
       "      <td>20100.0</td>\n",
       "      <td>16079.34</td>\n",
       "      <td>0.00</td>\n",
       "      <td>4020.66</td>\n",
       "      <td>0</td>\n",
       "    </tr>\n",
       "    <tr>\n",
       "      <th>99996</th>\n",
       "      <td>PAYMENT</td>\n",
       "      <td>18345.49</td>\n",
       "      <td>20100.0</td>\n",
       "      <td>1754.51</td>\n",
       "      <td>0.00</td>\n",
       "      <td>18345.49</td>\n",
       "      <td>0</td>\n",
       "    </tr>\n",
       "    <tr>\n",
       "      <th>99997</th>\n",
       "      <td>CASH_IN</td>\n",
       "      <td>183774.91</td>\n",
       "      <td>20100.0</td>\n",
       "      <td>0.00</td>\n",
       "      <td>54925.05</td>\n",
       "      <td>238699.96</td>\n",
       "      <td>0</td>\n",
       "    </tr>\n",
       "    <tr>\n",
       "      <th>99998</th>\n",
       "      <td>CASH_OUT</td>\n",
       "      <td>82237.17</td>\n",
       "      <td>20100.0</td>\n",
       "      <td>0.00</td>\n",
       "      <td>592635.66</td>\n",
       "      <td>674872.83</td>\n",
       "      <td>0</td>\n",
       "    </tr>\n",
       "    <tr>\n",
       "      <th>99999</th>\n",
       "      <td>PAYMENT</td>\n",
       "      <td>20096.56</td>\n",
       "      <td>20100.0</td>\n",
       "      <td>3.44</td>\n",
       "      <td>0.00</td>\n",
       "      <td>20096.56</td>\n",
       "      <td>0</td>\n",
       "    </tr>\n",
       "  </tbody>\n",
       "</table>\n",
       "<p>100000 rows × 7 columns</p>\n",
       "</div>"
      ],
      "text/plain": [
       "           type     amount  oldbalanceOrg  newbalanceOrg  oldbalanceDest  \\\n",
       "0       PAYMENT    9839.64       170136.0      160296.36            0.00   \n",
       "1       PAYMENT    1864.28        21249.0       19384.72            0.00   \n",
       "2      TRANSFER     181.00          181.0           0.00            0.00   \n",
       "3      CASH_OUT     181.00          181.0           0.00        21182.00   \n",
       "4       PAYMENT   11668.14        41554.0       29885.86            0.00   \n",
       "...         ...        ...            ...            ...             ...   \n",
       "99995   PAYMENT    4020.66        20100.0       16079.34            0.00   \n",
       "99996   PAYMENT   18345.49        20100.0        1754.51            0.00   \n",
       "99997   CASH_IN  183774.91        20100.0           0.00        54925.05   \n",
       "99998  CASH_OUT   82237.17        20100.0           0.00       592635.66   \n",
       "99999   PAYMENT   20096.56        20100.0           3.44            0.00   \n",
       "\n",
       "       newbalanceDest  isFraud  \n",
       "0             9839.64        0  \n",
       "1             1864.28        0  \n",
       "2              181.00        1  \n",
       "3            21363.00        1  \n",
       "4            11668.14        0  \n",
       "...               ...      ...  \n",
       "99995         4020.66        0  \n",
       "99996        18345.49        0  \n",
       "99997       238699.96        0  \n",
       "99998       674872.83        0  \n",
       "99999        20096.56        0  \n",
       "\n",
       "[100000 rows x 7 columns]"
      ]
     },
     "execution_count": 57,
     "metadata": {},
     "output_type": "execute_result"
    }
   ],
   "source": [
    "## Dropping the step column to perform and build the model based on remaining columns\n",
    "df1 = df.drop(['step'], axis=1)\n",
    "df1"
   ]
  },
  {
   "cell_type": "code",
   "execution_count": 58,
   "id": "2050c60f",
   "metadata": {},
   "outputs": [],
   "source": [
    "# get all categorical columns in the dataframe\n",
    "catCols = [col for col in df1.columns if df1[col].dtype==\"O\"]\n",
    "\n",
    "from sklearn.preprocessing import LabelEncoder\n",
    "\n",
    "lb_make = LabelEncoder()\n",
    "\n",
    "for item in catCols:\n",
    "    df1[item] = lb_make.fit_transform(df1[item])"
   ]
  },
  {
   "cell_type": "code",
   "execution_count": 59,
   "id": "f28d21dd",
   "metadata": {},
   "outputs": [
    {
     "data": {
      "text/html": [
       "<div>\n",
       "<style scoped>\n",
       "    .dataframe tbody tr th:only-of-type {\n",
       "        vertical-align: middle;\n",
       "    }\n",
       "\n",
       "    .dataframe tbody tr th {\n",
       "        vertical-align: top;\n",
       "    }\n",
       "\n",
       "    .dataframe thead th {\n",
       "        text-align: right;\n",
       "    }\n",
       "</style>\n",
       "<table border=\"1\" class=\"dataframe\">\n",
       "  <thead>\n",
       "    <tr style=\"text-align: right;\">\n",
       "      <th></th>\n",
       "      <th>type</th>\n",
       "      <th>amount</th>\n",
       "      <th>oldbalanceOrg</th>\n",
       "      <th>newbalanceOrg</th>\n",
       "      <th>oldbalanceDest</th>\n",
       "      <th>newbalanceDest</th>\n",
       "      <th>isFraud</th>\n",
       "    </tr>\n",
       "  </thead>\n",
       "  <tbody>\n",
       "    <tr>\n",
       "      <th>0</th>\n",
       "      <td>3</td>\n",
       "      <td>9839.64</td>\n",
       "      <td>170136.0</td>\n",
       "      <td>160296.36</td>\n",
       "      <td>0.00</td>\n",
       "      <td>9839.64</td>\n",
       "      <td>0</td>\n",
       "    </tr>\n",
       "    <tr>\n",
       "      <th>1</th>\n",
       "      <td>3</td>\n",
       "      <td>1864.28</td>\n",
       "      <td>21249.0</td>\n",
       "      <td>19384.72</td>\n",
       "      <td>0.00</td>\n",
       "      <td>1864.28</td>\n",
       "      <td>0</td>\n",
       "    </tr>\n",
       "    <tr>\n",
       "      <th>2</th>\n",
       "      <td>4</td>\n",
       "      <td>181.00</td>\n",
       "      <td>181.0</td>\n",
       "      <td>0.00</td>\n",
       "      <td>0.00</td>\n",
       "      <td>181.00</td>\n",
       "      <td>1</td>\n",
       "    </tr>\n",
       "    <tr>\n",
       "      <th>3</th>\n",
       "      <td>1</td>\n",
       "      <td>181.00</td>\n",
       "      <td>181.0</td>\n",
       "      <td>0.00</td>\n",
       "      <td>21182.00</td>\n",
       "      <td>21363.00</td>\n",
       "      <td>1</td>\n",
       "    </tr>\n",
       "    <tr>\n",
       "      <th>4</th>\n",
       "      <td>3</td>\n",
       "      <td>11668.14</td>\n",
       "      <td>41554.0</td>\n",
       "      <td>29885.86</td>\n",
       "      <td>0.00</td>\n",
       "      <td>11668.14</td>\n",
       "      <td>0</td>\n",
       "    </tr>\n",
       "    <tr>\n",
       "      <th>...</th>\n",
       "      <td>...</td>\n",
       "      <td>...</td>\n",
       "      <td>...</td>\n",
       "      <td>...</td>\n",
       "      <td>...</td>\n",
       "      <td>...</td>\n",
       "      <td>...</td>\n",
       "    </tr>\n",
       "    <tr>\n",
       "      <th>99995</th>\n",
       "      <td>3</td>\n",
       "      <td>4020.66</td>\n",
       "      <td>20100.0</td>\n",
       "      <td>16079.34</td>\n",
       "      <td>0.00</td>\n",
       "      <td>4020.66</td>\n",
       "      <td>0</td>\n",
       "    </tr>\n",
       "    <tr>\n",
       "      <th>99996</th>\n",
       "      <td>3</td>\n",
       "      <td>18345.49</td>\n",
       "      <td>20100.0</td>\n",
       "      <td>1754.51</td>\n",
       "      <td>0.00</td>\n",
       "      <td>18345.49</td>\n",
       "      <td>0</td>\n",
       "    </tr>\n",
       "    <tr>\n",
       "      <th>99997</th>\n",
       "      <td>0</td>\n",
       "      <td>183774.91</td>\n",
       "      <td>20100.0</td>\n",
       "      <td>0.00</td>\n",
       "      <td>54925.05</td>\n",
       "      <td>238699.96</td>\n",
       "      <td>0</td>\n",
       "    </tr>\n",
       "    <tr>\n",
       "      <th>99998</th>\n",
       "      <td>1</td>\n",
       "      <td>82237.17</td>\n",
       "      <td>20100.0</td>\n",
       "      <td>0.00</td>\n",
       "      <td>592635.66</td>\n",
       "      <td>674872.83</td>\n",
       "      <td>0</td>\n",
       "    </tr>\n",
       "    <tr>\n",
       "      <th>99999</th>\n",
       "      <td>3</td>\n",
       "      <td>20096.56</td>\n",
       "      <td>20100.0</td>\n",
       "      <td>3.44</td>\n",
       "      <td>0.00</td>\n",
       "      <td>20096.56</td>\n",
       "      <td>0</td>\n",
       "    </tr>\n",
       "  </tbody>\n",
       "</table>\n",
       "<p>100000 rows × 7 columns</p>\n",
       "</div>"
      ],
      "text/plain": [
       "       type     amount  oldbalanceOrg  newbalanceOrg  oldbalanceDest  \\\n",
       "0         3    9839.64       170136.0      160296.36            0.00   \n",
       "1         3    1864.28        21249.0       19384.72            0.00   \n",
       "2         4     181.00          181.0           0.00            0.00   \n",
       "3         1     181.00          181.0           0.00        21182.00   \n",
       "4         3   11668.14        41554.0       29885.86            0.00   \n",
       "...     ...        ...            ...            ...             ...   \n",
       "99995     3    4020.66        20100.0       16079.34            0.00   \n",
       "99996     3   18345.49        20100.0        1754.51            0.00   \n",
       "99997     0  183774.91        20100.0           0.00        54925.05   \n",
       "99998     1   82237.17        20100.0           0.00       592635.66   \n",
       "99999     3   20096.56        20100.0           3.44            0.00   \n",
       "\n",
       "       newbalanceDest  isFraud  \n",
       "0             9839.64        0  \n",
       "1             1864.28        0  \n",
       "2              181.00        1  \n",
       "3            21363.00        1  \n",
       "4            11668.14        0  \n",
       "...               ...      ...  \n",
       "99995         4020.66        0  \n",
       "99996        18345.49        0  \n",
       "99997       238699.96        0  \n",
       "99998       674872.83        0  \n",
       "99999        20096.56        0  \n",
       "\n",
       "[100000 rows x 7 columns]"
      ]
     },
     "execution_count": 59,
     "metadata": {},
     "output_type": "execute_result"
    }
   ],
   "source": [
    "df1"
   ]
  },
  {
   "cell_type": "code",
   "execution_count": 60,
   "id": "724c1ffd",
   "metadata": {},
   "outputs": [
    {
     "data": {
      "text/plain": [
       "3    39512\n",
       "1    30718\n",
       "0    20185\n",
       "4     8597\n",
       "2      988\n",
       "Name: type, dtype: int64"
      ]
     },
     "execution_count": 60,
     "metadata": {},
     "output_type": "execute_result"
    }
   ],
   "source": [
    "df1[\"type\"].value_counts()"
   ]
  },
  {
   "cell_type": "markdown",
   "id": "f47aba36",
   "metadata": {},
   "source": [
    "0 - CASH_IN\n",
    "1 - CASH_OUT\n",
    "2 - DEBIT\n",
    "3 - PAYMENT\n",
    "4 - TRANSFER"
   ]
  },
  {
   "cell_type": "code",
   "execution_count": 61,
   "id": "779eae6f",
   "metadata": {},
   "outputs": [],
   "source": [
    "# Split the data into X and y\n",
    "X = df1.drop('isFraud', axis=1)\n",
    "y = df1['isFraud']"
   ]
  },
  {
   "cell_type": "code",
   "execution_count": 62,
   "id": "0e355bed",
   "metadata": {},
   "outputs": [
    {
     "data": {
      "text/html": [
       "<div>\n",
       "<style scoped>\n",
       "    .dataframe tbody tr th:only-of-type {\n",
       "        vertical-align: middle;\n",
       "    }\n",
       "\n",
       "    .dataframe tbody tr th {\n",
       "        vertical-align: top;\n",
       "    }\n",
       "\n",
       "    .dataframe thead th {\n",
       "        text-align: right;\n",
       "    }\n",
       "</style>\n",
       "<table border=\"1\" class=\"dataframe\">\n",
       "  <thead>\n",
       "    <tr style=\"text-align: right;\">\n",
       "      <th></th>\n",
       "      <th>type</th>\n",
       "      <th>amount</th>\n",
       "      <th>oldbalanceOrg</th>\n",
       "      <th>newbalanceOrg</th>\n",
       "      <th>oldbalanceDest</th>\n",
       "      <th>newbalanceDest</th>\n",
       "    </tr>\n",
       "  </thead>\n",
       "  <tbody>\n",
       "    <tr>\n",
       "      <th>0</th>\n",
       "      <td>3</td>\n",
       "      <td>9839.64</td>\n",
       "      <td>170136.0</td>\n",
       "      <td>160296.36</td>\n",
       "      <td>0.00</td>\n",
       "      <td>9839.64</td>\n",
       "    </tr>\n",
       "    <tr>\n",
       "      <th>1</th>\n",
       "      <td>3</td>\n",
       "      <td>1864.28</td>\n",
       "      <td>21249.0</td>\n",
       "      <td>19384.72</td>\n",
       "      <td>0.00</td>\n",
       "      <td>1864.28</td>\n",
       "    </tr>\n",
       "    <tr>\n",
       "      <th>2</th>\n",
       "      <td>4</td>\n",
       "      <td>181.00</td>\n",
       "      <td>181.0</td>\n",
       "      <td>0.00</td>\n",
       "      <td>0.00</td>\n",
       "      <td>181.00</td>\n",
       "    </tr>\n",
       "    <tr>\n",
       "      <th>3</th>\n",
       "      <td>1</td>\n",
       "      <td>181.00</td>\n",
       "      <td>181.0</td>\n",
       "      <td>0.00</td>\n",
       "      <td>21182.00</td>\n",
       "      <td>21363.00</td>\n",
       "    </tr>\n",
       "    <tr>\n",
       "      <th>4</th>\n",
       "      <td>3</td>\n",
       "      <td>11668.14</td>\n",
       "      <td>41554.0</td>\n",
       "      <td>29885.86</td>\n",
       "      <td>0.00</td>\n",
       "      <td>11668.14</td>\n",
       "    </tr>\n",
       "    <tr>\n",
       "      <th>...</th>\n",
       "      <td>...</td>\n",
       "      <td>...</td>\n",
       "      <td>...</td>\n",
       "      <td>...</td>\n",
       "      <td>...</td>\n",
       "      <td>...</td>\n",
       "    </tr>\n",
       "    <tr>\n",
       "      <th>99995</th>\n",
       "      <td>3</td>\n",
       "      <td>4020.66</td>\n",
       "      <td>20100.0</td>\n",
       "      <td>16079.34</td>\n",
       "      <td>0.00</td>\n",
       "      <td>4020.66</td>\n",
       "    </tr>\n",
       "    <tr>\n",
       "      <th>99996</th>\n",
       "      <td>3</td>\n",
       "      <td>18345.49</td>\n",
       "      <td>20100.0</td>\n",
       "      <td>1754.51</td>\n",
       "      <td>0.00</td>\n",
       "      <td>18345.49</td>\n",
       "    </tr>\n",
       "    <tr>\n",
       "      <th>99997</th>\n",
       "      <td>0</td>\n",
       "      <td>183774.91</td>\n",
       "      <td>20100.0</td>\n",
       "      <td>0.00</td>\n",
       "      <td>54925.05</td>\n",
       "      <td>238699.96</td>\n",
       "    </tr>\n",
       "    <tr>\n",
       "      <th>99998</th>\n",
       "      <td>1</td>\n",
       "      <td>82237.17</td>\n",
       "      <td>20100.0</td>\n",
       "      <td>0.00</td>\n",
       "      <td>592635.66</td>\n",
       "      <td>674872.83</td>\n",
       "    </tr>\n",
       "    <tr>\n",
       "      <th>99999</th>\n",
       "      <td>3</td>\n",
       "      <td>20096.56</td>\n",
       "      <td>20100.0</td>\n",
       "      <td>3.44</td>\n",
       "      <td>0.00</td>\n",
       "      <td>20096.56</td>\n",
       "    </tr>\n",
       "  </tbody>\n",
       "</table>\n",
       "<p>100000 rows × 6 columns</p>\n",
       "</div>"
      ],
      "text/plain": [
       "       type     amount  oldbalanceOrg  newbalanceOrg  oldbalanceDest  \\\n",
       "0         3    9839.64       170136.0      160296.36            0.00   \n",
       "1         3    1864.28        21249.0       19384.72            0.00   \n",
       "2         4     181.00          181.0           0.00            0.00   \n",
       "3         1     181.00          181.0           0.00        21182.00   \n",
       "4         3   11668.14        41554.0       29885.86            0.00   \n",
       "...     ...        ...            ...            ...             ...   \n",
       "99995     3    4020.66        20100.0       16079.34            0.00   \n",
       "99996     3   18345.49        20100.0        1754.51            0.00   \n",
       "99997     0  183774.91        20100.0           0.00        54925.05   \n",
       "99998     1   82237.17        20100.0           0.00       592635.66   \n",
       "99999     3   20096.56        20100.0           3.44            0.00   \n",
       "\n",
       "       newbalanceDest  \n",
       "0             9839.64  \n",
       "1             1864.28  \n",
       "2              181.00  \n",
       "3            21363.00  \n",
       "4            11668.14  \n",
       "...               ...  \n",
       "99995         4020.66  \n",
       "99996        18345.49  \n",
       "99997       238699.96  \n",
       "99998       674872.83  \n",
       "99999        20096.56  \n",
       "\n",
       "[100000 rows x 6 columns]"
      ]
     },
     "execution_count": 62,
     "metadata": {},
     "output_type": "execute_result"
    }
   ],
   "source": [
    "X"
   ]
  },
  {
   "cell_type": "code",
   "execution_count": 63,
   "id": "6149bf78",
   "metadata": {},
   "outputs": [
    {
     "data": {
      "text/plain": [
       "0        0\n",
       "1        0\n",
       "2        1\n",
       "3        1\n",
       "4        0\n",
       "        ..\n",
       "99995    0\n",
       "99996    0\n",
       "99997    0\n",
       "99998    0\n",
       "99999    0\n",
       "Name: isFraud, Length: 100000, dtype: int64"
      ]
     },
     "execution_count": 63,
     "metadata": {},
     "output_type": "execute_result"
    }
   ],
   "source": [
    "y"
   ]
  },
  {
   "cell_type": "code",
   "execution_count": 64,
   "id": "41318b6b",
   "metadata": {},
   "outputs": [
    {
     "name": "stdout",
     "output_type": "stream",
     "text": [
      "Accuracy on test set: 0.83995\n"
     ]
    }
   ],
   "source": [
    "import xgboost as xgb\n",
    "import pickle\n",
    "from imblearn.over_sampling import SMOTE\n",
    "from sklearn.preprocessing import OneHotEncoder, MinMaxScaler\n",
    "from sklearn.compose import ColumnTransformer\n",
    "from imblearn.pipeline import make_pipeline\n",
    "from sklearn.model_selection import train_test_split\n",
    "\n",
    "# Define the column transformer\n",
    "preprocessor = ColumnTransformer(\n",
    "    transformers=[\n",
    "        ('scaler', MinMaxScaler(), slice(1, None))\n",
    "    ])\n",
    "\n",
    "# Define the pipeline\n",
    "pipeline = make_pipeline(\n",
    "    preprocessor,\n",
    "    SMOTE(random_state=42),\n",
    "    xgb.XGBClassifier()\n",
    ")\n",
    "\n",
    "# Split the data into train and test sets\n",
    "X_train, X_test, y_train, y_test = train_test_split(X, y, test_size=0.2, random_state=42)\n",
    "\n",
    "# Fit the pipeline on the training data\n",
    "pipeline.fit(X_train, y_train)\n",
    "\n",
    "# Evaluate the model on the test set\n",
    "print('Accuracy on test set:', pipeline.score(X_test, y_test))"
   ]
  },
  {
   "cell_type": "code",
   "execution_count": 65,
   "id": "5d9f0fe0",
   "metadata": {},
   "outputs": [],
   "source": [
    "# Save the model using pickle\n",
    "filename = 'xgb_model.pkl'\n",
    "pickle.dump(pipeline, open(filename, 'wb'))"
   ]
  },
  {
   "cell_type": "code",
   "execution_count": 66,
   "id": "889dace8",
   "metadata": {},
   "outputs": [],
   "source": [
    "# loading the saved model\n",
    "loaded_model = pickle.load(open('xgb_model.pkl', 'rb'))"
   ]
  },
  {
   "cell_type": "code",
   "execution_count": 67,
   "id": "51f4fca8",
   "metadata": {},
   "outputs": [
    {
     "name": "stdout",
     "output_type": "stream",
     "text": [
      "[1]\n",
      "The person is NOT FRAUD in money laundering\n"
     ]
    }
   ],
   "source": [
    "## Building a Predictive System \n",
    "input_data = (4,181.00,181.0,0.00,0.00,181.00)\n",
    "\n",
    "# changing the input_data to numpy array\n",
    "input_data_as_numpy_array = np.asarray(input_data)\n",
    "\n",
    "# reshape the array as we are predicting for one instance\n",
    "input_data_reshaped = input_data_as_numpy_array.reshape(1,-1)\n",
    "\n",
    "prediction = loaded_model.predict(input_data_reshaped)\n",
    "print(prediction)\n",
    "\n",
    "if (prediction[0] == 0):\n",
    "  print('The person is FRAUD in money laundering')\n",
    "else:\n",
    "  print('The person is NOT FRAUD in money laundering')"
   ]
  },
  {
   "cell_type": "code",
   "execution_count": 68,
   "id": "b8f4c2fe",
   "metadata": {},
   "outputs": [
    {
     "name": "stdout",
     "output_type": "stream",
     "text": [
      "[0]\n",
      "The person is FRAUD in money laundering\n"
     ]
    }
   ],
   "source": [
    "## Building a Predictive System \n",
    "input_data = (0,183774.91,20100.0,0.00,54925.05,238699.96)\n",
    "\n",
    "# changing the input_data to numpy array\n",
    "input_data_as_numpy_array = np.asarray(input_data)\n",
    "\n",
    "# reshape the array as we are predicting for one instance\n",
    "input_data_reshaped = input_data_as_numpy_array.reshape(1,-1)\n",
    "\n",
    "prediction = loaded_model.predict(input_data_reshaped)\n",
    "print(prediction)\n",
    "\n",
    "if (prediction[0] == 0):\n",
    "  print('The person is FRAUD in money laundering')\n",
    "else:\n",
    "  print('The person is NOT FRAUD in money laundering')"
   ]
  },
  {
   "cell_type": "code",
   "execution_count": 69,
   "id": "cdd609d1",
   "metadata": {},
   "outputs": [
    {
     "name": "stdout",
     "output_type": "stream",
     "text": [
      "/Users/pradeepgouda\n"
     ]
    }
   ],
   "source": [
    "import os\n",
    "\n",
    "current_dir = os.getcwd()\n",
    "print(current_dir)"
   ]
  }
 ],
 "metadata": {
  "accelerator": "GPU",
  "colab": {
   "provenance": []
  },
  "gpuClass": "standard",
  "kernelspec": {
   "display_name": "Python 3 (ipykernel)",
   "language": "python",
   "name": "python3"
  },
  "language_info": {
   "codemirror_mode": {
    "name": "ipython",
    "version": 3
   },
   "file_extension": ".py",
   "mimetype": "text/x-python",
   "name": "python",
   "nbconvert_exporter": "python",
   "pygments_lexer": "ipython3",
   "version": "3.9.16"
  }
 },
 "nbformat": 4,
 "nbformat_minor": 5
}
